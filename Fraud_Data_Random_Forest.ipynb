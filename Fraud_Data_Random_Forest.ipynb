{
  "nbformat": 4,
  "nbformat_minor": 0,
  "metadata": {
    "colab": {
      "name": "Random_Forest_on_fraud_data_with_optimisation_techniques.ipynb",
      "provenance": [],
      "collapsed_sections": [
        "qjdy3vG5BmER",
        "qKO21Qg8NSQc",
        "DQPCxfdDn0d5",
        "--K223wHPMZe",
        "CFooIZrR4q4B",
        "Fh2gSYBB7q9t"
      ]
    },
    "kernelspec": {
      "name": "python3",
      "display_name": "Python 3"
    }
  },
  "cells": [
    {
      "cell_type": "markdown",
      "metadata": {
        "id": "xJzHL5fcuhRV",
        "colab_type": "text"
      },
      "source": [
        "[![Open In Colab](https://colab.research.google.com/assets/colab-badge.svg)](https://colab.research.google.com/drive/1TFAKzldPaf718wZr8gY1okC0mbsL5ZUr?usp=sharing)"
      ]
    },
    {
      "cell_type": "markdown",
      "metadata": {
        "id": "jn2WK-EnvdaQ",
        "colab_type": "text"
      },
      "source": [
        "## Introduction\n",
        "The dataset used in this notebook is of '[IEEE-CIS Fraud Detection](https://www.kaggle.com/c/ieee-fraud-detection/data)'. This notebook will introduce you to class imbalance problem.\n",
        "\n",
        "Data set link: [Fraud Dataset](https://drive.google.com/file/d/1q8SYcjOJULdSkETv5S_gd7xNq1GrBHAO/view)\n",
        "\n",
        "#### Imbalanced Problem\n",
        "Imbalanced classes are a common problem in machine learning classification where there are a disproportionate ratio of observations in each class. Class imbalance can be found in many different areas including medical diagnosis, spam filtering, and fraud detection.\n",
        "\n",
        "#### Agenda\n",
        "*  Loading Libraries\n",
        "*  Loading Data\n",
        "*  Getting Basic Idea About Data\n",
        "*  Missing Values and Dealing with Missing Values\n",
        "*  One Hot Encoding (Creating dummies for categorical columns)\n",
        "*  Standardization / Normalization\n",
        "*  Splitting the dataset into train and test data\n",
        "*  Dealing with Imbalanced Data\n",
        "    *  Generate Synthetic Samples\n",
        "\n"
      ]
    },
    {
      "cell_type": "markdown",
      "metadata": {
        "id": "89IQeG9VuUpM",
        "colab_type": "text"
      },
      "source": [
        "## Loading Libraries\n",
        "All Python capabilities are not loaded to our working environment by default (even they are already installed in your system). So, we import each and every library that we want to use.\n",
        "\n",
        "In data science, numpy and pandas are most commonly used libraries. Numpy is required for calculations like means, medians, square roots, etc. Pandas is used for data processin and data frames. We chose alias names for our libraries for the sake of our convenience (numpy --> np and pandas --> pd)."
      ]
    },
    {
      "cell_type": "code",
      "metadata": {
        "id": "L_lWWBjGvNP1",
        "colab_type": "code",
        "colab": {
          "base_uri": "https://localhost:8080/",
          "height": 71
        },
        "outputId": "e463582d-75d4-4ebc-a1d1-ca8f82a5356e"
      },
      "source": [
        "import pandas as pd                  # A fundamental package for linear algebra and multidimensional arrays\n",
        "import numpy as np                   # Data analysis and data manipulating tool\n",
        "import random                        # Library to generate random numbers\n",
        "from collections import Counter      # Collection is a Python module that implements specialized container datatypes providing \n",
        "                                     # alternatives to Python’s general purpose built-in containers, dict, list, set, and tuple.\n",
        "                                     # Counter is a dict subclass for counting hashable objects\n",
        "# Visualization libraries\n",
        "import matplotlib.pyplot as plt\n",
        "import seaborn as sns\n",
        "\n",
        "# To ignore warnings in the notebook\n",
        "import warnings\n",
        "warnings.filterwarnings(\"ignore\")"
      ],
      "execution_count": null,
      "outputs": [
        {
          "output_type": "stream",
          "text": [
            "/usr/local/lib/python3.6/dist-packages/statsmodels/tools/_testing.py:19: FutureWarning: pandas.util.testing is deprecated. Use the functions in the public API at pandas.testing instead.\n",
            "  import pandas.util.testing as tm\n"
          ],
          "name": "stderr"
        }
      ]
    },
    {
      "cell_type": "markdown",
      "metadata": {
        "id": "2jIwY1OGvr7A",
        "colab_type": "text"
      },
      "source": [
        "## Loading Data\n",
        "Pandas module is used for reading files. We have our data in '.csv' format. We will use 'read_csv()' function for loading the data.\n",
        "\n",
        "**Disclaimer:** Loading fraud data might take time due to the nature of its size"
      ]
    },
    {
      "cell_type": "code",
      "metadata": {
        "id": "G_bYGjBvvkVv",
        "colab_type": "code",
        "colab": {}
      },
      "source": [
        "fraud_data = pd.read_csv(\"https://raw.githubusercontent.com/dphi-official/Imbalanced_classes/master/fraud_data.csv\")"
      ],
      "execution_count": null,
      "outputs": []
    },
    {
      "cell_type": "markdown",
      "metadata": {
        "id": "kvyUn8YG8wyC",
        "colab_type": "text"
      },
      "source": [
        "### Getting Basic Idea About Data"
      ]
    },
    {
      "cell_type": "code",
      "metadata": {
        "id": "8CmggKjE8ZUk",
        "colab_type": "code",
        "colab": {
          "base_uri": "https://localhost:8080/",
          "height": 321
        },
        "outputId": "74c01b3e-7120-46a2-b0d4-a44b87ee7aba"
      },
      "source": [
        "fraud_data.head()"
      ],
      "execution_count": null,
      "outputs": [
        {
          "output_type": "execute_result",
          "data": {
            "text/html": [
              "<div>\n",
              "<style scoped>\n",
              "    .dataframe tbody tr th:only-of-type {\n",
              "        vertical-align: middle;\n",
              "    }\n",
              "\n",
              "    .dataframe tbody tr th {\n",
              "        vertical-align: top;\n",
              "    }\n",
              "\n",
              "    .dataframe thead th {\n",
              "        text-align: right;\n",
              "    }\n",
              "</style>\n",
              "<table border=\"1\" class=\"dataframe\">\n",
              "  <thead>\n",
              "    <tr style=\"text-align: right;\">\n",
              "      <th></th>\n",
              "      <th>TransactionID</th>\n",
              "      <th>isFraud</th>\n",
              "      <th>TransactionDT</th>\n",
              "      <th>TransactionAmt</th>\n",
              "      <th>ProductCD</th>\n",
              "      <th>card1</th>\n",
              "      <th>card2</th>\n",
              "      <th>card3</th>\n",
              "      <th>card4</th>\n",
              "      <th>card5</th>\n",
              "      <th>card6</th>\n",
              "      <th>addr1</th>\n",
              "      <th>addr2</th>\n",
              "      <th>dist1</th>\n",
              "      <th>dist2</th>\n",
              "      <th>P_emaildomain</th>\n",
              "      <th>R_emaildomain</th>\n",
              "      <th>C1</th>\n",
              "      <th>C2</th>\n",
              "      <th>C3</th>\n",
              "      <th>C4</th>\n",
              "      <th>C5</th>\n",
              "      <th>C6</th>\n",
              "      <th>C7</th>\n",
              "      <th>C8</th>\n",
              "      <th>C9</th>\n",
              "      <th>C10</th>\n",
              "      <th>C11</th>\n",
              "      <th>C12</th>\n",
              "      <th>C13</th>\n",
              "      <th>C14</th>\n",
              "      <th>D1</th>\n",
              "      <th>D2</th>\n",
              "      <th>D3</th>\n",
              "      <th>D4</th>\n",
              "      <th>D5</th>\n",
              "      <th>D6</th>\n",
              "      <th>D7</th>\n",
              "      <th>D8</th>\n",
              "      <th>D9</th>\n",
              "      <th>...</th>\n",
              "      <th>id_01</th>\n",
              "      <th>id_02</th>\n",
              "      <th>id_03</th>\n",
              "      <th>id_04</th>\n",
              "      <th>id_05</th>\n",
              "      <th>id_06</th>\n",
              "      <th>id_07</th>\n",
              "      <th>id_08</th>\n",
              "      <th>id_09</th>\n",
              "      <th>id_10</th>\n",
              "      <th>id_11</th>\n",
              "      <th>id_12</th>\n",
              "      <th>id_13</th>\n",
              "      <th>id_14</th>\n",
              "      <th>id_15</th>\n",
              "      <th>id_16</th>\n",
              "      <th>id_17</th>\n",
              "      <th>id_18</th>\n",
              "      <th>id_19</th>\n",
              "      <th>id_20</th>\n",
              "      <th>id_21</th>\n",
              "      <th>id_22</th>\n",
              "      <th>id_23</th>\n",
              "      <th>id_24</th>\n",
              "      <th>id_25</th>\n",
              "      <th>id_26</th>\n",
              "      <th>id_27</th>\n",
              "      <th>id_28</th>\n",
              "      <th>id_29</th>\n",
              "      <th>id_30</th>\n",
              "      <th>id_31</th>\n",
              "      <th>id_32</th>\n",
              "      <th>id_33</th>\n",
              "      <th>id_34</th>\n",
              "      <th>id_35</th>\n",
              "      <th>id_36</th>\n",
              "      <th>id_37</th>\n",
              "      <th>id_38</th>\n",
              "      <th>DeviceType</th>\n",
              "      <th>DeviceInfo</th>\n",
              "    </tr>\n",
              "  </thead>\n",
              "  <tbody>\n",
              "    <tr>\n",
              "      <th>0</th>\n",
              "      <td>2994681</td>\n",
              "      <td>0</td>\n",
              "      <td>242834</td>\n",
              "      <td>25.000</td>\n",
              "      <td>H</td>\n",
              "      <td>9803</td>\n",
              "      <td>583.0</td>\n",
              "      <td>150.0</td>\n",
              "      <td>visa</td>\n",
              "      <td>226.0</td>\n",
              "      <td>credit</td>\n",
              "      <td>269.0</td>\n",
              "      <td>87.0</td>\n",
              "      <td>NaN</td>\n",
              "      <td>NaN</td>\n",
              "      <td>yahoo.com</td>\n",
              "      <td>NaN</td>\n",
              "      <td>1</td>\n",
              "      <td>1</td>\n",
              "      <td>0</td>\n",
              "      <td>0</td>\n",
              "      <td>0</td>\n",
              "      <td>1</td>\n",
              "      <td>0</td>\n",
              "      <td>1</td>\n",
              "      <td>0</td>\n",
              "      <td>1</td>\n",
              "      <td>1</td>\n",
              "      <td>0</td>\n",
              "      <td>1</td>\n",
              "      <td>1</td>\n",
              "      <td>0.0</td>\n",
              "      <td>NaN</td>\n",
              "      <td>NaN</td>\n",
              "      <td>NaN</td>\n",
              "      <td>NaN</td>\n",
              "      <td>NaN</td>\n",
              "      <td>NaN</td>\n",
              "      <td>7.791666</td>\n",
              "      <td>0.791666</td>\n",
              "      <td>...</td>\n",
              "      <td>0.0</td>\n",
              "      <td>82050.0</td>\n",
              "      <td>0.0</td>\n",
              "      <td>0.0</td>\n",
              "      <td>0.0</td>\n",
              "      <td>0.0</td>\n",
              "      <td>NaN</td>\n",
              "      <td>NaN</td>\n",
              "      <td>0.0</td>\n",
              "      <td>0.0</td>\n",
              "      <td>100.0</td>\n",
              "      <td>NotFound</td>\n",
              "      <td>NaN</td>\n",
              "      <td>-300.0</td>\n",
              "      <td>Found</td>\n",
              "      <td>Found</td>\n",
              "      <td>166.0</td>\n",
              "      <td>NaN</td>\n",
              "      <td>529.0</td>\n",
              "      <td>178.0</td>\n",
              "      <td>NaN</td>\n",
              "      <td>NaN</td>\n",
              "      <td>NaN</td>\n",
              "      <td>NaN</td>\n",
              "      <td>NaN</td>\n",
              "      <td>NaN</td>\n",
              "      <td>NaN</td>\n",
              "      <td>Found</td>\n",
              "      <td>Found</td>\n",
              "      <td>Mac OS X 10.12</td>\n",
              "      <td>firefox 56.0</td>\n",
              "      <td>24.0</td>\n",
              "      <td>1920x1080</td>\n",
              "      <td>match_status:2</td>\n",
              "      <td>T</td>\n",
              "      <td>F</td>\n",
              "      <td>T</td>\n",
              "      <td>T</td>\n",
              "      <td>desktop</td>\n",
              "      <td>rv:56.0</td>\n",
              "    </tr>\n",
              "    <tr>\n",
              "      <th>1</th>\n",
              "      <td>3557242</td>\n",
              "      <td>0</td>\n",
              "      <td>15123000</td>\n",
              "      <td>117.000</td>\n",
              "      <td>W</td>\n",
              "      <td>7919</td>\n",
              "      <td>194.0</td>\n",
              "      <td>150.0</td>\n",
              "      <td>mastercard</td>\n",
              "      <td>166.0</td>\n",
              "      <td>debit</td>\n",
              "      <td>181.0</td>\n",
              "      <td>87.0</td>\n",
              "      <td>483.0</td>\n",
              "      <td>NaN</td>\n",
              "      <td>gmail.com</td>\n",
              "      <td>NaN</td>\n",
              "      <td>1</td>\n",
              "      <td>4</td>\n",
              "      <td>0</td>\n",
              "      <td>0</td>\n",
              "      <td>0</td>\n",
              "      <td>1</td>\n",
              "      <td>0</td>\n",
              "      <td>0</td>\n",
              "      <td>3</td>\n",
              "      <td>0</td>\n",
              "      <td>3</td>\n",
              "      <td>0</td>\n",
              "      <td>4</td>\n",
              "      <td>1</td>\n",
              "      <td>63.0</td>\n",
              "      <td>35.0</td>\n",
              "      <td>1.0</td>\n",
              "      <td>4.0</td>\n",
              "      <td>4.0</td>\n",
              "      <td>NaN</td>\n",
              "      <td>NaN</td>\n",
              "      <td>NaN</td>\n",
              "      <td>NaN</td>\n",
              "      <td>...</td>\n",
              "      <td>NaN</td>\n",
              "      <td>NaN</td>\n",
              "      <td>NaN</td>\n",
              "      <td>NaN</td>\n",
              "      <td>NaN</td>\n",
              "      <td>NaN</td>\n",
              "      <td>NaN</td>\n",
              "      <td>NaN</td>\n",
              "      <td>NaN</td>\n",
              "      <td>NaN</td>\n",
              "      <td>NaN</td>\n",
              "      <td>NaN</td>\n",
              "      <td>NaN</td>\n",
              "      <td>NaN</td>\n",
              "      <td>NaN</td>\n",
              "      <td>NaN</td>\n",
              "      <td>NaN</td>\n",
              "      <td>NaN</td>\n",
              "      <td>NaN</td>\n",
              "      <td>NaN</td>\n",
              "      <td>NaN</td>\n",
              "      <td>NaN</td>\n",
              "      <td>NaN</td>\n",
              "      <td>NaN</td>\n",
              "      <td>NaN</td>\n",
              "      <td>NaN</td>\n",
              "      <td>NaN</td>\n",
              "      <td>NaN</td>\n",
              "      <td>NaN</td>\n",
              "      <td>NaN</td>\n",
              "      <td>NaN</td>\n",
              "      <td>NaN</td>\n",
              "      <td>NaN</td>\n",
              "      <td>NaN</td>\n",
              "      <td>NaN</td>\n",
              "      <td>NaN</td>\n",
              "      <td>NaN</td>\n",
              "      <td>NaN</td>\n",
              "      <td>NaN</td>\n",
              "      <td>NaN</td>\n",
              "    </tr>\n",
              "    <tr>\n",
              "      <th>2</th>\n",
              "      <td>3327470</td>\n",
              "      <td>0</td>\n",
              "      <td>8378575</td>\n",
              "      <td>73.773</td>\n",
              "      <td>C</td>\n",
              "      <td>12778</td>\n",
              "      <td>500.0</td>\n",
              "      <td>185.0</td>\n",
              "      <td>mastercard</td>\n",
              "      <td>224.0</td>\n",
              "      <td>credit</td>\n",
              "      <td>284.0</td>\n",
              "      <td>60.0</td>\n",
              "      <td>NaN</td>\n",
              "      <td>NaN</td>\n",
              "      <td>hotmail.com</td>\n",
              "      <td>hotmail.com</td>\n",
              "      <td>1</td>\n",
              "      <td>3</td>\n",
              "      <td>0</td>\n",
              "      <td>1</td>\n",
              "      <td>0</td>\n",
              "      <td>1</td>\n",
              "      <td>1</td>\n",
              "      <td>0</td>\n",
              "      <td>0</td>\n",
              "      <td>0</td>\n",
              "      <td>2</td>\n",
              "      <td>2</td>\n",
              "      <td>3</td>\n",
              "      <td>1</td>\n",
              "      <td>54.0</td>\n",
              "      <td>54.0</td>\n",
              "      <td>35.0</td>\n",
              "      <td>54.0</td>\n",
              "      <td>35.0</td>\n",
              "      <td>54.0</td>\n",
              "      <td>35.0</td>\n",
              "      <td>NaN</td>\n",
              "      <td>NaN</td>\n",
              "      <td>...</td>\n",
              "      <td>NaN</td>\n",
              "      <td>NaN</td>\n",
              "      <td>NaN</td>\n",
              "      <td>NaN</td>\n",
              "      <td>NaN</td>\n",
              "      <td>NaN</td>\n",
              "      <td>NaN</td>\n",
              "      <td>NaN</td>\n",
              "      <td>NaN</td>\n",
              "      <td>NaN</td>\n",
              "      <td>NaN</td>\n",
              "      <td>NaN</td>\n",
              "      <td>NaN</td>\n",
              "      <td>NaN</td>\n",
              "      <td>NaN</td>\n",
              "      <td>NaN</td>\n",
              "      <td>NaN</td>\n",
              "      <td>NaN</td>\n",
              "      <td>NaN</td>\n",
              "      <td>NaN</td>\n",
              "      <td>NaN</td>\n",
              "      <td>NaN</td>\n",
              "      <td>NaN</td>\n",
              "      <td>NaN</td>\n",
              "      <td>NaN</td>\n",
              "      <td>NaN</td>\n",
              "      <td>NaN</td>\n",
              "      <td>NaN</td>\n",
              "      <td>NaN</td>\n",
              "      <td>NaN</td>\n",
              "      <td>NaN</td>\n",
              "      <td>NaN</td>\n",
              "      <td>NaN</td>\n",
              "      <td>NaN</td>\n",
              "      <td>NaN</td>\n",
              "      <td>NaN</td>\n",
              "      <td>NaN</td>\n",
              "      <td>NaN</td>\n",
              "      <td>NaN</td>\n",
              "      <td>NaN</td>\n",
              "    </tr>\n",
              "    <tr>\n",
              "      <th>3</th>\n",
              "      <td>3118781</td>\n",
              "      <td>0</td>\n",
              "      <td>2607840</td>\n",
              "      <td>400.000</td>\n",
              "      <td>R</td>\n",
              "      <td>12316</td>\n",
              "      <td>548.0</td>\n",
              "      <td>150.0</td>\n",
              "      <td>visa</td>\n",
              "      <td>195.0</td>\n",
              "      <td>credit</td>\n",
              "      <td>441.0</td>\n",
              "      <td>87.0</td>\n",
              "      <td>NaN</td>\n",
              "      <td>371.0</td>\n",
              "      <td>anonymous.com</td>\n",
              "      <td>anonymous.com</td>\n",
              "      <td>1</td>\n",
              "      <td>1</td>\n",
              "      <td>0</td>\n",
              "      <td>1</td>\n",
              "      <td>0</td>\n",
              "      <td>1</td>\n",
              "      <td>0</td>\n",
              "      <td>1</td>\n",
              "      <td>0</td>\n",
              "      <td>1</td>\n",
              "      <td>1</td>\n",
              "      <td>0</td>\n",
              "      <td>1</td>\n",
              "      <td>1</td>\n",
              "      <td>0.0</td>\n",
              "      <td>NaN</td>\n",
              "      <td>NaN</td>\n",
              "      <td>NaN</td>\n",
              "      <td>NaN</td>\n",
              "      <td>NaN</td>\n",
              "      <td>NaN</td>\n",
              "      <td>NaN</td>\n",
              "      <td>NaN</td>\n",
              "      <td>...</td>\n",
              "      <td>-5.0</td>\n",
              "      <td>183599.0</td>\n",
              "      <td>NaN</td>\n",
              "      <td>NaN</td>\n",
              "      <td>6.0</td>\n",
              "      <td>-11.0</td>\n",
              "      <td>NaN</td>\n",
              "      <td>NaN</td>\n",
              "      <td>NaN</td>\n",
              "      <td>NaN</td>\n",
              "      <td>100.0</td>\n",
              "      <td>NotFound</td>\n",
              "      <td>49.0</td>\n",
              "      <td>-300.0</td>\n",
              "      <td>New</td>\n",
              "      <td>NotFound</td>\n",
              "      <td>166.0</td>\n",
              "      <td>15.0</td>\n",
              "      <td>352.0</td>\n",
              "      <td>280.0</td>\n",
              "      <td>NaN</td>\n",
              "      <td>NaN</td>\n",
              "      <td>NaN</td>\n",
              "      <td>NaN</td>\n",
              "      <td>NaN</td>\n",
              "      <td>NaN</td>\n",
              "      <td>NaN</td>\n",
              "      <td>New</td>\n",
              "      <td>NotFound</td>\n",
              "      <td>iOS 10.3.3</td>\n",
              "      <td>mobile safari generic</td>\n",
              "      <td>32.0</td>\n",
              "      <td>1136x640</td>\n",
              "      <td>match_status:2</td>\n",
              "      <td>T</td>\n",
              "      <td>F</td>\n",
              "      <td>T</td>\n",
              "      <td>F</td>\n",
              "      <td>mobile</td>\n",
              "      <td>iOS Device</td>\n",
              "    </tr>\n",
              "    <tr>\n",
              "      <th>4</th>\n",
              "      <td>3459772</td>\n",
              "      <td>0</td>\n",
              "      <td>12226544</td>\n",
              "      <td>31.950</td>\n",
              "      <td>W</td>\n",
              "      <td>9002</td>\n",
              "      <td>453.0</td>\n",
              "      <td>150.0</td>\n",
              "      <td>visa</td>\n",
              "      <td>226.0</td>\n",
              "      <td>debit</td>\n",
              "      <td>264.0</td>\n",
              "      <td>87.0</td>\n",
              "      <td>10.0</td>\n",
              "      <td>NaN</td>\n",
              "      <td>yahoo.com</td>\n",
              "      <td>NaN</td>\n",
              "      <td>3</td>\n",
              "      <td>3</td>\n",
              "      <td>0</td>\n",
              "      <td>0</td>\n",
              "      <td>3</td>\n",
              "      <td>4</td>\n",
              "      <td>0</td>\n",
              "      <td>0</td>\n",
              "      <td>3</td>\n",
              "      <td>0</td>\n",
              "      <td>2</td>\n",
              "      <td>0</td>\n",
              "      <td>33</td>\n",
              "      <td>3</td>\n",
              "      <td>54.0</td>\n",
              "      <td>54.0</td>\n",
              "      <td>15.0</td>\n",
              "      <td>405.0</td>\n",
              "      <td>32.0</td>\n",
              "      <td>NaN</td>\n",
              "      <td>NaN</td>\n",
              "      <td>NaN</td>\n",
              "      <td>NaN</td>\n",
              "      <td>...</td>\n",
              "      <td>NaN</td>\n",
              "      <td>NaN</td>\n",
              "      <td>NaN</td>\n",
              "      <td>NaN</td>\n",
              "      <td>NaN</td>\n",
              "      <td>NaN</td>\n",
              "      <td>NaN</td>\n",
              "      <td>NaN</td>\n",
              "      <td>NaN</td>\n",
              "      <td>NaN</td>\n",
              "      <td>NaN</td>\n",
              "      <td>NaN</td>\n",
              "      <td>NaN</td>\n",
              "      <td>NaN</td>\n",
              "      <td>NaN</td>\n",
              "      <td>NaN</td>\n",
              "      <td>NaN</td>\n",
              "      <td>NaN</td>\n",
              "      <td>NaN</td>\n",
              "      <td>NaN</td>\n",
              "      <td>NaN</td>\n",
              "      <td>NaN</td>\n",
              "      <td>NaN</td>\n",
              "      <td>NaN</td>\n",
              "      <td>NaN</td>\n",
              "      <td>NaN</td>\n",
              "      <td>NaN</td>\n",
              "      <td>NaN</td>\n",
              "      <td>NaN</td>\n",
              "      <td>NaN</td>\n",
              "      <td>NaN</td>\n",
              "      <td>NaN</td>\n",
              "      <td>NaN</td>\n",
              "      <td>NaN</td>\n",
              "      <td>NaN</td>\n",
              "      <td>NaN</td>\n",
              "      <td>NaN</td>\n",
              "      <td>NaN</td>\n",
              "      <td>NaN</td>\n",
              "      <td>NaN</td>\n",
              "    </tr>\n",
              "  </tbody>\n",
              "</table>\n",
              "<p>5 rows × 434 columns</p>\n",
              "</div>"
            ],
            "text/plain": [
              "   TransactionID  isFraud  TransactionDT  ...  id_38 DeviceType  DeviceInfo\n",
              "0        2994681        0         242834  ...      T    desktop     rv:56.0\n",
              "1        3557242        0       15123000  ...    NaN        NaN         NaN\n",
              "2        3327470        0        8378575  ...    NaN        NaN         NaN\n",
              "3        3118781        0        2607840  ...      F     mobile  iOS Device\n",
              "4        3459772        0       12226544  ...    NaN        NaN         NaN\n",
              "\n",
              "[5 rows x 434 columns]"
            ]
          },
          "metadata": {
            "tags": []
          },
          "execution_count": 3
        }
      ]
    },
    {
      "cell_type": "code",
      "metadata": {
        "id": "jwNQSckh83QZ",
        "colab_type": "code",
        "colab": {
          "base_uri": "https://localhost:8080/",
          "height": 102
        },
        "outputId": "068d77c9-9240-4095-ba03-41be5138f7d1"
      },
      "source": [
        "fraud_data.info()"
      ],
      "execution_count": null,
      "outputs": [
        {
          "output_type": "stream",
          "text": [
            "<class 'pandas.core.frame.DataFrame'>\n",
            "RangeIndex: 59054 entries, 0 to 59053\n",
            "Columns: 434 entries, TransactionID to DeviceInfo\n",
            "dtypes: float64(385), int64(18), object(31)\n",
            "memory usage: 195.5+ MB\n"
          ],
          "name": "stdout"
        }
      ]
    },
    {
      "cell_type": "markdown",
      "metadata": {
        "id": "6FjL68CPABH7",
        "colab_type": "text"
      },
      "source": [
        "There are 434 columns with 59054 observations."
      ]
    },
    {
      "cell_type": "code",
      "metadata": {
        "id": "1mqIdBU-M_mT",
        "colab_type": "code",
        "colab": {
          "base_uri": "https://localhost:8080/",
          "height": 346
        },
        "outputId": "4c7d3481-10bc-4906-c437-f6d64054e49c"
      },
      "source": [
        "fraud_data.describe()"
      ],
      "execution_count": null,
      "outputs": [
        {
          "output_type": "execute_result",
          "data": {
            "text/html": [
              "<div>\n",
              "<style scoped>\n",
              "    .dataframe tbody tr th:only-of-type {\n",
              "        vertical-align: middle;\n",
              "    }\n",
              "\n",
              "    .dataframe tbody tr th {\n",
              "        vertical-align: top;\n",
              "    }\n",
              "\n",
              "    .dataframe thead th {\n",
              "        text-align: right;\n",
              "    }\n",
              "</style>\n",
              "<table border=\"1\" class=\"dataframe\">\n",
              "  <thead>\n",
              "    <tr style=\"text-align: right;\">\n",
              "      <th></th>\n",
              "      <th>TransactionID</th>\n",
              "      <th>isFraud</th>\n",
              "      <th>TransactionDT</th>\n",
              "      <th>TransactionAmt</th>\n",
              "      <th>card1</th>\n",
              "      <th>card2</th>\n",
              "      <th>card3</th>\n",
              "      <th>card5</th>\n",
              "      <th>addr1</th>\n",
              "      <th>addr2</th>\n",
              "      <th>dist1</th>\n",
              "      <th>dist2</th>\n",
              "      <th>C1</th>\n",
              "      <th>C2</th>\n",
              "      <th>C3</th>\n",
              "      <th>C4</th>\n",
              "      <th>C5</th>\n",
              "      <th>C6</th>\n",
              "      <th>C7</th>\n",
              "      <th>C8</th>\n",
              "      <th>C9</th>\n",
              "      <th>C10</th>\n",
              "      <th>C11</th>\n",
              "      <th>C12</th>\n",
              "      <th>C13</th>\n",
              "      <th>C14</th>\n",
              "      <th>D1</th>\n",
              "      <th>D2</th>\n",
              "      <th>D3</th>\n",
              "      <th>D4</th>\n",
              "      <th>D5</th>\n",
              "      <th>D6</th>\n",
              "      <th>D7</th>\n",
              "      <th>D8</th>\n",
              "      <th>D9</th>\n",
              "      <th>D10</th>\n",
              "      <th>D11</th>\n",
              "      <th>D12</th>\n",
              "      <th>D13</th>\n",
              "      <th>D14</th>\n",
              "      <th>...</th>\n",
              "      <th>V323</th>\n",
              "      <th>V324</th>\n",
              "      <th>V325</th>\n",
              "      <th>V326</th>\n",
              "      <th>V327</th>\n",
              "      <th>V328</th>\n",
              "      <th>V329</th>\n",
              "      <th>V330</th>\n",
              "      <th>V331</th>\n",
              "      <th>V332</th>\n",
              "      <th>V333</th>\n",
              "      <th>V334</th>\n",
              "      <th>V335</th>\n",
              "      <th>V336</th>\n",
              "      <th>V337</th>\n",
              "      <th>V338</th>\n",
              "      <th>V339</th>\n",
              "      <th>id_01</th>\n",
              "      <th>id_02</th>\n",
              "      <th>id_03</th>\n",
              "      <th>id_04</th>\n",
              "      <th>id_05</th>\n",
              "      <th>id_06</th>\n",
              "      <th>id_07</th>\n",
              "      <th>id_08</th>\n",
              "      <th>id_09</th>\n",
              "      <th>id_10</th>\n",
              "      <th>id_11</th>\n",
              "      <th>id_13</th>\n",
              "      <th>id_14</th>\n",
              "      <th>id_17</th>\n",
              "      <th>id_18</th>\n",
              "      <th>id_19</th>\n",
              "      <th>id_20</th>\n",
              "      <th>id_21</th>\n",
              "      <th>id_22</th>\n",
              "      <th>id_24</th>\n",
              "      <th>id_25</th>\n",
              "      <th>id_26</th>\n",
              "      <th>id_32</th>\n",
              "    </tr>\n",
              "  </thead>\n",
              "  <tbody>\n",
              "    <tr>\n",
              "      <th>count</th>\n",
              "      <td>5.905400e+04</td>\n",
              "      <td>59054.000000</td>\n",
              "      <td>5.905400e+04</td>\n",
              "      <td>59054.000000</td>\n",
              "      <td>59054.000000</td>\n",
              "      <td>58139.000000</td>\n",
              "      <td>58896.000000</td>\n",
              "      <td>58610.000000</td>\n",
              "      <td>52326.000000</td>\n",
              "      <td>52326.000000</td>\n",
              "      <td>23701.000000</td>\n",
              "      <td>3872.000000</td>\n",
              "      <td>59054.000000</td>\n",
              "      <td>59054.000000</td>\n",
              "      <td>59054.000000</td>\n",
              "      <td>59054.000000</td>\n",
              "      <td>59054.000000</td>\n",
              "      <td>59054.000000</td>\n",
              "      <td>59054.000000</td>\n",
              "      <td>59054.000000</td>\n",
              "      <td>59054.000000</td>\n",
              "      <td>59054.000000</td>\n",
              "      <td>59054.000000</td>\n",
              "      <td>59054.000000</td>\n",
              "      <td>59054.000000</td>\n",
              "      <td>59054.000000</td>\n",
              "      <td>58933.000000</td>\n",
              "      <td>31100.000000</td>\n",
              "      <td>32839.000000</td>\n",
              "      <td>42208.000000</td>\n",
              "      <td>28075.000000</td>\n",
              "      <td>7421.000000</td>\n",
              "      <td>3947.000000</td>\n",
              "      <td>7553.000000</td>\n",
              "      <td>7553.000000</td>\n",
              "      <td>51514.000000</td>\n",
              "      <td>30902.000000</td>\n",
              "      <td>6580.000000</td>\n",
              "      <td>6324.000000</td>\n",
              "      <td>6317.000000</td>\n",
              "      <td>...</td>\n",
              "      <td>8211.000000</td>\n",
              "      <td>8211.000000</td>\n",
              "      <td>8211.000000</td>\n",
              "      <td>8211.000000</td>\n",
              "      <td>8211.000000</td>\n",
              "      <td>8211.000000</td>\n",
              "      <td>8211.000000</td>\n",
              "      <td>8211.000000</td>\n",
              "      <td>8211.000000</td>\n",
              "      <td>8211.000000</td>\n",
              "      <td>8211.000000</td>\n",
              "      <td>8211.000000</td>\n",
              "      <td>8211.000000</td>\n",
              "      <td>8211.000000</td>\n",
              "      <td>8211.000000</td>\n",
              "      <td>8211.000000</td>\n",
              "      <td>8211.000000</td>\n",
              "      <td>14555.000000</td>\n",
              "      <td>14194.000000</td>\n",
              "      <td>6697.000000</td>\n",
              "      <td>6697.000000</td>\n",
              "      <td>13820.000000</td>\n",
              "      <td>13820.000000</td>\n",
              "      <td>525.000000</td>\n",
              "      <td>525.000000</td>\n",
              "      <td>7553.000000</td>\n",
              "      <td>7553.000000</td>\n",
              "      <td>14205.000000</td>\n",
              "      <td>12887.000000</td>\n",
              "      <td>7963.000000</td>\n",
              "      <td>14061.00000</td>\n",
              "      <td>4511.000000</td>\n",
              "      <td>14059.000000</td>\n",
              "      <td>14054.000000</td>\n",
              "      <td>525.000000</td>\n",
              "      <td>525.000000</td>\n",
              "      <td>487.000000</td>\n",
              "      <td>524.000000</td>\n",
              "      <td>525.000000</td>\n",
              "      <td>7715.000000</td>\n",
              "    </tr>\n",
              "    <tr>\n",
              "      <th>mean</th>\n",
              "      <td>3.282166e+06</td>\n",
              "      <td>0.033952</td>\n",
              "      <td>7.368220e+06</td>\n",
              "      <td>134.142888</td>\n",
              "      <td>9910.366360</td>\n",
              "      <td>362.438054</td>\n",
              "      <td>153.264551</td>\n",
              "      <td>199.104231</td>\n",
              "      <td>290.653939</td>\n",
              "      <td>86.806616</td>\n",
              "      <td>115.655837</td>\n",
              "      <td>215.529442</td>\n",
              "      <td>13.213212</td>\n",
              "      <td>14.233447</td>\n",
              "      <td>0.005571</td>\n",
              "      <td>3.673773</td>\n",
              "      <td>5.480120</td>\n",
              "      <td>8.574305</td>\n",
              "      <td>2.476784</td>\n",
              "      <td>4.551275</td>\n",
              "      <td>4.422173</td>\n",
              "      <td>4.642226</td>\n",
              "      <td>9.597893</td>\n",
              "      <td>3.551428</td>\n",
              "      <td>31.658753</td>\n",
              "      <td>7.955397</td>\n",
              "      <td>94.243548</td>\n",
              "      <td>168.784855</td>\n",
              "      <td>28.215689</td>\n",
              "      <td>139.992561</td>\n",
              "      <td>42.073375</td>\n",
              "      <td>70.105107</td>\n",
              "      <td>41.393970</td>\n",
              "      <td>145.864171</td>\n",
              "      <td>0.552242</td>\n",
              "      <td>124.267325</td>\n",
              "      <td>147.232800</td>\n",
              "      <td>54.019149</td>\n",
              "      <td>18.445130</td>\n",
              "      <td>57.257084</td>\n",
              "      <td>...</td>\n",
              "      <td>14.844477</td>\n",
              "      <td>10.334673</td>\n",
              "      <td>0.061259</td>\n",
              "      <td>0.891609</td>\n",
              "      <td>0.318232</td>\n",
              "      <td>0.367556</td>\n",
              "      <td>1.470710</td>\n",
              "      <td>0.857752</td>\n",
              "      <td>849.716295</td>\n",
              "      <td>1577.078680</td>\n",
              "      <td>1152.623919</td>\n",
              "      <td>12.852454</td>\n",
              "      <td>67.041535</td>\n",
              "      <td>34.014493</td>\n",
              "      <td>59.909633</td>\n",
              "      <td>171.761661</td>\n",
              "      <td>111.076848</td>\n",
              "      <td>-10.241498</td>\n",
              "      <td>174517.019938</td>\n",
              "      <td>0.048828</td>\n",
              "      <td>-0.054950</td>\n",
              "      <td>1.564110</td>\n",
              "      <td>-6.731766</td>\n",
              "      <td>13.460952</td>\n",
              "      <td>-38.022857</td>\n",
              "      <td>0.084337</td>\n",
              "      <td>-0.274196</td>\n",
              "      <td>99.753982</td>\n",
              "      <td>47.978273</td>\n",
              "      <td>-345.713927</td>\n",
              "      <td>189.89958</td>\n",
              "      <td>14.238750</td>\n",
              "      <td>351.767622</td>\n",
              "      <td>404.594777</td>\n",
              "      <td>385.257143</td>\n",
              "      <td>15.748571</td>\n",
              "      <td>12.739220</td>\n",
              "      <td>326.225191</td>\n",
              "      <td>148.794286</td>\n",
              "      <td>26.499028</td>\n",
              "    </tr>\n",
              "    <tr>\n",
              "      <th>std</th>\n",
              "      <td>1.702573e+05</td>\n",
              "      <td>0.181107</td>\n",
              "      <td>4.612063e+06</td>\n",
              "      <td>233.112295</td>\n",
              "      <td>4893.704524</td>\n",
              "      <td>157.360648</td>\n",
              "      <td>11.395609</td>\n",
              "      <td>41.296438</td>\n",
              "      <td>101.796538</td>\n",
              "      <td>2.639572</td>\n",
              "      <td>366.462377</td>\n",
              "      <td>506.824710</td>\n",
              "      <td>123.135469</td>\n",
              "      <td>142.344325</td>\n",
              "      <td>0.163114</td>\n",
              "      <td>63.702441</td>\n",
              "      <td>25.570422</td>\n",
              "      <td>66.567581</td>\n",
              "      <td>56.502781</td>\n",
              "      <td>87.486345</td>\n",
              "      <td>16.593728</td>\n",
              "      <td>87.825362</td>\n",
              "      <td>87.212257</td>\n",
              "      <td>79.301070</td>\n",
              "      <td>124.218136</td>\n",
              "      <td>46.514295</td>\n",
              "      <td>157.679479</td>\n",
              "      <td>177.314255</td>\n",
              "      <td>62.528194</td>\n",
              "      <td>190.990250</td>\n",
              "      <td>88.257774</td>\n",
              "      <td>142.669131</td>\n",
              "      <td>98.446942</td>\n",
              "      <td>233.615671</td>\n",
              "      <td>0.319701</td>\n",
              "      <td>183.034325</td>\n",
              "      <td>185.927214</td>\n",
              "      <td>123.116200</td>\n",
              "      <td>69.076225</td>\n",
              "      <td>134.707158</td>\n",
              "      <td>...</td>\n",
              "      <td>113.784292</td>\n",
              "      <td>78.037190</td>\n",
              "      <td>0.312194</td>\n",
              "      <td>4.115381</td>\n",
              "      <td>1.434882</td>\n",
              "      <td>1.684518</td>\n",
              "      <td>9.305046</td>\n",
              "      <td>4.987901</td>\n",
              "      <td>6698.443610</td>\n",
              "      <td>11954.433804</td>\n",
              "      <td>8490.237746</td>\n",
              "      <td>366.868543</td>\n",
              "      <td>566.486726</td>\n",
              "      <td>390.038930</td>\n",
              "      <td>657.909569</td>\n",
              "      <td>1144.071698</td>\n",
              "      <td>823.586157</td>\n",
              "      <td>14.412998</td>\n",
              "      <td>158198.544249</td>\n",
              "      <td>0.607971</td>\n",
              "      <td>0.659661</td>\n",
              "      <td>5.071657</td>\n",
              "      <td>16.586186</td>\n",
              "      <td>11.546822</td>\n",
              "      <td>24.980822</td>\n",
              "      <td>0.932670</td>\n",
              "      <td>2.668107</td>\n",
              "      <td>1.106252</td>\n",
              "      <td>11.914148</td>\n",
              "      <td>91.661528</td>\n",
              "      <td>30.34787</td>\n",
              "      <td>1.524658</td>\n",
              "      <td>141.600677</td>\n",
              "      <td>152.201538</td>\n",
              "      <td>213.565534</td>\n",
              "      <td>6.496154</td>\n",
              "      <td>2.275238</td>\n",
              "      <td>97.662855</td>\n",
              "      <td>31.168092</td>\n",
              "      <td>3.739140</td>\n",
              "    </tr>\n",
              "    <tr>\n",
              "      <th>min</th>\n",
              "      <td>2.987019e+06</td>\n",
              "      <td>0.000000</td>\n",
              "      <td>8.673000e+04</td>\n",
              "      <td>0.292000</td>\n",
              "      <td>1008.000000</td>\n",
              "      <td>100.000000</td>\n",
              "      <td>100.000000</td>\n",
              "      <td>100.000000</td>\n",
              "      <td>100.000000</td>\n",
              "      <td>13.000000</td>\n",
              "      <td>0.000000</td>\n",
              "      <td>0.000000</td>\n",
              "      <td>0.000000</td>\n",
              "      <td>0.000000</td>\n",
              "      <td>0.000000</td>\n",
              "      <td>0.000000</td>\n",
              "      <td>0.000000</td>\n",
              "      <td>0.000000</td>\n",
              "      <td>0.000000</td>\n",
              "      <td>0.000000</td>\n",
              "      <td>0.000000</td>\n",
              "      <td>0.000000</td>\n",
              "      <td>0.000000</td>\n",
              "      <td>0.000000</td>\n",
              "      <td>0.000000</td>\n",
              "      <td>0.000000</td>\n",
              "      <td>0.000000</td>\n",
              "      <td>0.000000</td>\n",
              "      <td>0.000000</td>\n",
              "      <td>-90.000000</td>\n",
              "      <td>0.000000</td>\n",
              "      <td>0.000000</td>\n",
              "      <td>0.000000</td>\n",
              "      <td>0.000000</td>\n",
              "      <td>0.000000</td>\n",
              "      <td>0.000000</td>\n",
              "      <td>-33.000000</td>\n",
              "      <td>0.000000</td>\n",
              "      <td>0.000000</td>\n",
              "      <td>0.000000</td>\n",
              "      <td>...</td>\n",
              "      <td>0.000000</td>\n",
              "      <td>0.000000</td>\n",
              "      <td>0.000000</td>\n",
              "      <td>0.000000</td>\n",
              "      <td>0.000000</td>\n",
              "      <td>0.000000</td>\n",
              "      <td>0.000000</td>\n",
              "      <td>0.000000</td>\n",
              "      <td>0.000000</td>\n",
              "      <td>0.000000</td>\n",
              "      <td>0.000000</td>\n",
              "      <td>0.000000</td>\n",
              "      <td>0.000000</td>\n",
              "      <td>0.000000</td>\n",
              "      <td>0.000000</td>\n",
              "      <td>0.000000</td>\n",
              "      <td>0.000000</td>\n",
              "      <td>-100.000000</td>\n",
              "      <td>43.000000</td>\n",
              "      <td>-12.000000</td>\n",
              "      <td>-12.000000</td>\n",
              "      <td>-32.000000</td>\n",
              "      <td>-100.000000</td>\n",
              "      <td>-31.000000</td>\n",
              "      <td>-100.000000</td>\n",
              "      <td>-26.000000</td>\n",
              "      <td>-100.000000</td>\n",
              "      <td>90.000000</td>\n",
              "      <td>11.000000</td>\n",
              "      <td>-660.000000</td>\n",
              "      <td>100.00000</td>\n",
              "      <td>11.000000</td>\n",
              "      <td>100.000000</td>\n",
              "      <td>100.000000</td>\n",
              "      <td>114.000000</td>\n",
              "      <td>14.000000</td>\n",
              "      <td>11.000000</td>\n",
              "      <td>100.000000</td>\n",
              "      <td>100.000000</td>\n",
              "      <td>0.000000</td>\n",
              "    </tr>\n",
              "    <tr>\n",
              "      <th>25%</th>\n",
              "      <td>3.135748e+06</td>\n",
              "      <td>0.000000</td>\n",
              "      <td>3.074217e+06</td>\n",
              "      <td>42.950000</td>\n",
              "      <td>6019.000000</td>\n",
              "      <td>215.000000</td>\n",
              "      <td>150.000000</td>\n",
              "      <td>166.000000</td>\n",
              "      <td>204.000000</td>\n",
              "      <td>87.000000</td>\n",
              "      <td>3.000000</td>\n",
              "      <td>7.000000</td>\n",
              "      <td>1.000000</td>\n",
              "      <td>1.000000</td>\n",
              "      <td>0.000000</td>\n",
              "      <td>0.000000</td>\n",
              "      <td>0.000000</td>\n",
              "      <td>1.000000</td>\n",
              "      <td>0.000000</td>\n",
              "      <td>0.000000</td>\n",
              "      <td>0.000000</td>\n",
              "      <td>0.000000</td>\n",
              "      <td>1.000000</td>\n",
              "      <td>0.000000</td>\n",
              "      <td>1.000000</td>\n",
              "      <td>1.000000</td>\n",
              "      <td>0.000000</td>\n",
              "      <td>25.000000</td>\n",
              "      <td>1.000000</td>\n",
              "      <td>0.000000</td>\n",
              "      <td>1.000000</td>\n",
              "      <td>0.000000</td>\n",
              "      <td>0.000000</td>\n",
              "      <td>0.958333</td>\n",
              "      <td>0.208333</td>\n",
              "      <td>0.000000</td>\n",
              "      <td>0.000000</td>\n",
              "      <td>0.000000</td>\n",
              "      <td>0.000000</td>\n",
              "      <td>0.000000</td>\n",
              "      <td>...</td>\n",
              "      <td>0.000000</td>\n",
              "      <td>0.000000</td>\n",
              "      <td>0.000000</td>\n",
              "      <td>0.000000</td>\n",
              "      <td>0.000000</td>\n",
              "      <td>0.000000</td>\n",
              "      <td>0.000000</td>\n",
              "      <td>0.000000</td>\n",
              "      <td>0.000000</td>\n",
              "      <td>0.000000</td>\n",
              "      <td>0.000000</td>\n",
              "      <td>0.000000</td>\n",
              "      <td>0.000000</td>\n",
              "      <td>0.000000</td>\n",
              "      <td>0.000000</td>\n",
              "      <td>0.000000</td>\n",
              "      <td>0.000000</td>\n",
              "      <td>-10.000000</td>\n",
              "      <td>67806.000000</td>\n",
              "      <td>0.000000</td>\n",
              "      <td>0.000000</td>\n",
              "      <td>0.000000</td>\n",
              "      <td>-6.000000</td>\n",
              "      <td>5.000000</td>\n",
              "      <td>-48.000000</td>\n",
              "      <td>0.000000</td>\n",
              "      <td>0.000000</td>\n",
              "      <td>100.000000</td>\n",
              "      <td>49.000000</td>\n",
              "      <td>-360.000000</td>\n",
              "      <td>166.00000</td>\n",
              "      <td>13.000000</td>\n",
              "      <td>266.000000</td>\n",
              "      <td>256.000000</td>\n",
              "      <td>252.000000</td>\n",
              "      <td>14.000000</td>\n",
              "      <td>11.000000</td>\n",
              "      <td>321.000000</td>\n",
              "      <td>119.000000</td>\n",
              "      <td>24.000000</td>\n",
              "    </tr>\n",
              "    <tr>\n",
              "      <th>50%</th>\n",
              "      <td>3.282062e+06</td>\n",
              "      <td>0.000000</td>\n",
              "      <td>7.288450e+06</td>\n",
              "      <td>68.017000</td>\n",
              "      <td>9749.000000</td>\n",
              "      <td>361.000000</td>\n",
              "      <td>150.000000</td>\n",
              "      <td>226.000000</td>\n",
              "      <td>299.000000</td>\n",
              "      <td>87.000000</td>\n",
              "      <td>8.000000</td>\n",
              "      <td>33.000000</td>\n",
              "      <td>1.000000</td>\n",
              "      <td>1.000000</td>\n",
              "      <td>0.000000</td>\n",
              "      <td>0.000000</td>\n",
              "      <td>0.000000</td>\n",
              "      <td>1.000000</td>\n",
              "      <td>0.000000</td>\n",
              "      <td>0.000000</td>\n",
              "      <td>1.000000</td>\n",
              "      <td>0.000000</td>\n",
              "      <td>1.000000</td>\n",
              "      <td>0.000000</td>\n",
              "      <td>3.000000</td>\n",
              "      <td>1.000000</td>\n",
              "      <td>3.000000</td>\n",
              "      <td>96.000000</td>\n",
              "      <td>8.000000</td>\n",
              "      <td>25.000000</td>\n",
              "      <td>9.000000</td>\n",
              "      <td>0.000000</td>\n",
              "      <td>0.000000</td>\n",
              "      <td>36.875000</td>\n",
              "      <td>0.666666</td>\n",
              "      <td>15.000000</td>\n",
              "      <td>44.000000</td>\n",
              "      <td>0.000000</td>\n",
              "      <td>0.000000</td>\n",
              "      <td>0.000000</td>\n",
              "      <td>...</td>\n",
              "      <td>0.000000</td>\n",
              "      <td>0.000000</td>\n",
              "      <td>0.000000</td>\n",
              "      <td>0.000000</td>\n",
              "      <td>0.000000</td>\n",
              "      <td>0.000000</td>\n",
              "      <td>0.000000</td>\n",
              "      <td>0.000000</td>\n",
              "      <td>0.000000</td>\n",
              "      <td>0.000000</td>\n",
              "      <td>0.000000</td>\n",
              "      <td>0.000000</td>\n",
              "      <td>0.000000</td>\n",
              "      <td>0.000000</td>\n",
              "      <td>0.000000</td>\n",
              "      <td>0.000000</td>\n",
              "      <td>0.000000</td>\n",
              "      <td>-5.000000</td>\n",
              "      <td>126886.000000</td>\n",
              "      <td>0.000000</td>\n",
              "      <td>0.000000</td>\n",
              "      <td>0.000000</td>\n",
              "      <td>0.000000</td>\n",
              "      <td>14.000000</td>\n",
              "      <td>-34.000000</td>\n",
              "      <td>0.000000</td>\n",
              "      <td>0.000000</td>\n",
              "      <td>100.000000</td>\n",
              "      <td>52.000000</td>\n",
              "      <td>-300.000000</td>\n",
              "      <td>166.00000</td>\n",
              "      <td>15.000000</td>\n",
              "      <td>339.000000</td>\n",
              "      <td>484.000000</td>\n",
              "      <td>252.000000</td>\n",
              "      <td>14.000000</td>\n",
              "      <td>11.000000</td>\n",
              "      <td>321.000000</td>\n",
              "      <td>147.000000</td>\n",
              "      <td>24.000000</td>\n",
              "    </tr>\n",
              "    <tr>\n",
              "      <th>75%</th>\n",
              "      <td>3.429699e+06</td>\n",
              "      <td>0.000000</td>\n",
              "      <td>1.123918e+07</td>\n",
              "      <td>117.000000</td>\n",
              "      <td>14223.000000</td>\n",
              "      <td>512.000000</td>\n",
              "      <td>150.000000</td>\n",
              "      <td>226.000000</td>\n",
              "      <td>330.000000</td>\n",
              "      <td>87.000000</td>\n",
              "      <td>24.000000</td>\n",
              "      <td>199.000000</td>\n",
              "      <td>3.000000</td>\n",
              "      <td>3.000000</td>\n",
              "      <td>0.000000</td>\n",
              "      <td>0.000000</td>\n",
              "      <td>1.000000</td>\n",
              "      <td>2.000000</td>\n",
              "      <td>0.000000</td>\n",
              "      <td>0.000000</td>\n",
              "      <td>2.000000</td>\n",
              "      <td>0.000000</td>\n",
              "      <td>2.000000</td>\n",
              "      <td>0.000000</td>\n",
              "      <td>13.000000</td>\n",
              "      <td>2.000000</td>\n",
              "      <td>121.000000</td>\n",
              "      <td>273.000000</td>\n",
              "      <td>27.000000</td>\n",
              "      <td>255.000000</td>\n",
              "      <td>32.000000</td>\n",
              "      <td>44.000000</td>\n",
              "      <td>17.000000</td>\n",
              "      <td>183.791672</td>\n",
              "      <td>0.833333</td>\n",
              "      <td>198.000000</td>\n",
              "      <td>275.000000</td>\n",
              "      <td>13.000000</td>\n",
              "      <td>0.000000</td>\n",
              "      <td>2.000000</td>\n",
              "      <td>...</td>\n",
              "      <td>1.000000</td>\n",
              "      <td>0.000000</td>\n",
              "      <td>0.000000</td>\n",
              "      <td>0.000000</td>\n",
              "      <td>0.000000</td>\n",
              "      <td>0.000000</td>\n",
              "      <td>0.000000</td>\n",
              "      <td>0.000000</td>\n",
              "      <td>0.000000</td>\n",
              "      <td>25.000000</td>\n",
              "      <td>0.000000</td>\n",
              "      <td>0.000000</td>\n",
              "      <td>0.000000</td>\n",
              "      <td>0.000000</td>\n",
              "      <td>0.000000</td>\n",
              "      <td>0.000000</td>\n",
              "      <td>0.000000</td>\n",
              "      <td>-5.000000</td>\n",
              "      <td>228324.000000</td>\n",
              "      <td>0.000000</td>\n",
              "      <td>0.000000</td>\n",
              "      <td>1.000000</td>\n",
              "      <td>0.000000</td>\n",
              "      <td>22.000000</td>\n",
              "      <td>-23.000000</td>\n",
              "      <td>0.000000</td>\n",
              "      <td>0.000000</td>\n",
              "      <td>100.000000</td>\n",
              "      <td>52.000000</td>\n",
              "      <td>-300.000000</td>\n",
              "      <td>225.00000</td>\n",
              "      <td>15.000000</td>\n",
              "      <td>427.000000</td>\n",
              "      <td>533.000000</td>\n",
              "      <td>554.000000</td>\n",
              "      <td>14.000000</td>\n",
              "      <td>15.000000</td>\n",
              "      <td>361.000000</td>\n",
              "      <td>169.000000</td>\n",
              "      <td>32.000000</td>\n",
              "    </tr>\n",
              "    <tr>\n",
              "      <th>max</th>\n",
              "      <td>3.577536e+06</td>\n",
              "      <td>1.000000</td>\n",
              "      <td>1.581105e+07</td>\n",
              "      <td>5279.950000</td>\n",
              "      <td>18390.000000</td>\n",
              "      <td>600.000000</td>\n",
              "      <td>229.000000</td>\n",
              "      <td>237.000000</td>\n",
              "      <td>536.000000</td>\n",
              "      <td>102.000000</td>\n",
              "      <td>6818.000000</td>\n",
              "      <td>7104.000000</td>\n",
              "      <td>4669.000000</td>\n",
              "      <td>5624.000000</td>\n",
              "      <td>21.000000</td>\n",
              "      <td>2241.000000</td>\n",
              "      <td>349.000000</td>\n",
              "      <td>2241.000000</td>\n",
              "      <td>2243.000000</td>\n",
              "      <td>3318.000000</td>\n",
              "      <td>205.000000</td>\n",
              "      <td>3245.000000</td>\n",
              "      <td>3171.000000</td>\n",
              "      <td>3171.000000</td>\n",
              "      <td>2904.000000</td>\n",
              "      <td>1418.000000</td>\n",
              "      <td>640.000000</td>\n",
              "      <td>640.000000</td>\n",
              "      <td>819.000000</td>\n",
              "      <td>869.000000</td>\n",
              "      <td>731.000000</td>\n",
              "      <td>849.000000</td>\n",
              "      <td>730.000000</td>\n",
              "      <td>1376.541626</td>\n",
              "      <td>0.958333</td>\n",
              "      <td>869.000000</td>\n",
              "      <td>664.000000</td>\n",
              "      <td>632.000000</td>\n",
              "      <td>820.000000</td>\n",
              "      <td>869.000000</td>\n",
              "      <td>...</td>\n",
              "      <td>1400.000000</td>\n",
              "      <td>971.000000</td>\n",
              "      <td>7.000000</td>\n",
              "      <td>43.000000</td>\n",
              "      <td>16.000000</td>\n",
              "      <td>15.000000</td>\n",
              "      <td>88.000000</td>\n",
              "      <td>53.000000</td>\n",
              "      <td>108800.000000</td>\n",
              "      <td>145167.000000</td>\n",
              "      <td>108800.000000</td>\n",
              "      <td>30250.000000</td>\n",
              "      <td>41690.000000</td>\n",
              "      <td>30250.000000</td>\n",
              "      <td>51200.000000</td>\n",
              "      <td>51200.000000</td>\n",
              "      <td>51200.000000</td>\n",
              "      <td>0.000000</td>\n",
              "      <td>991867.000000</td>\n",
              "      <td>9.000000</td>\n",
              "      <td>0.000000</td>\n",
              "      <td>52.000000</td>\n",
              "      <td>0.000000</td>\n",
              "      <td>61.000000</td>\n",
              "      <td>0.000000</td>\n",
              "      <td>17.000000</td>\n",
              "      <td>0.000000</td>\n",
              "      <td>100.000000</td>\n",
              "      <td>64.000000</td>\n",
              "      <td>600.000000</td>\n",
              "      <td>225.00000</td>\n",
              "      <td>29.000000</td>\n",
              "      <td>670.000000</td>\n",
              "      <td>660.000000</td>\n",
              "      <td>854.000000</td>\n",
              "      <td>43.000000</td>\n",
              "      <td>24.000000</td>\n",
              "      <td>548.000000</td>\n",
              "      <td>216.000000</td>\n",
              "      <td>32.000000</td>\n",
              "    </tr>\n",
              "  </tbody>\n",
              "</table>\n",
              "<p>8 rows × 403 columns</p>\n",
              "</div>"
            ],
            "text/plain": [
              "       TransactionID       isFraud  ...       id_26        id_32\n",
              "count   5.905400e+04  59054.000000  ...  525.000000  7715.000000\n",
              "mean    3.282166e+06      0.033952  ...  148.794286    26.499028\n",
              "std     1.702573e+05      0.181107  ...   31.168092     3.739140\n",
              "min     2.987019e+06      0.000000  ...  100.000000     0.000000\n",
              "25%     3.135748e+06      0.000000  ...  119.000000    24.000000\n",
              "50%     3.282062e+06      0.000000  ...  147.000000    24.000000\n",
              "75%     3.429699e+06      0.000000  ...  169.000000    32.000000\n",
              "max     3.577536e+06      1.000000  ...  216.000000    32.000000\n",
              "\n",
              "[8 rows x 403 columns]"
            ]
          },
          "metadata": {
            "tags": []
          },
          "execution_count": 5
        }
      ]
    },
    {
      "cell_type": "code",
      "metadata": {
        "id": "GcnguA4n9IsZ",
        "colab_type": "code",
        "colab": {
          "base_uri": "https://localhost:8080/",
          "height": 68
        },
        "outputId": "4f08fbea-c803-4667-9a0a-1d16619d6b5e"
      },
      "source": [
        "# Taking a look at the target variable\n",
        "fraud_data.isFraud.value_counts()"
      ],
      "execution_count": null,
      "outputs": [
        {
          "output_type": "execute_result",
          "data": {
            "text/plain": [
              "0    57049\n",
              "1     2005\n",
              "Name: isFraud, dtype: int64"
            ]
          },
          "metadata": {
            "tags": []
          },
          "execution_count": 6
        }
      ]
    },
    {
      "cell_type": "markdown",
      "metadata": {
        "id": "1L-PiTGd9d8b",
        "colab_type": "text"
      },
      "source": [
        "We can notice, of 57049 observations / records only 2005 were fraud transactions."
      ]
    },
    {
      "cell_type": "code",
      "metadata": {
        "id": "92IJJSUf9cgq",
        "colab_type": "code",
        "colab": {
          "base_uri": "https://localhost:8080/",
          "height": 68
        },
        "outputId": "f1b05ab9-0a5d-4b5c-c8f0-8a41a3b45e39"
      },
      "source": [
        "fraud_data.isFraud.value_counts(normalize = True)      # Normalize = True will find the proportion of fraud transaction and not fraud transaction "
      ],
      "execution_count": null,
      "outputs": [
        {
          "output_type": "execute_result",
          "data": {
            "text/plain": [
              "0    0.966048\n",
              "1    0.033952\n",
              "Name: isFraud, dtype: float64"
            ]
          },
          "metadata": {
            "tags": []
          },
          "execution_count": 7
        }
      ]
    },
    {
      "cell_type": "code",
      "metadata": {
        "id": "sOl5jgYE9wLg",
        "colab_type": "code",
        "colab": {
          "base_uri": "https://localhost:8080/",
          "height": 296
        },
        "outputId": "06b830fd-3e16-45dd-8aba-5680162faeab"
      },
      "source": [
        "# we can also use countplot form seaborn to plot the above information graphically.\n",
        "sns.countplot(fraud_data.isFraud)"
      ],
      "execution_count": null,
      "outputs": [
        {
          "output_type": "execute_result",
          "data": {
            "text/plain": [
              "<matplotlib.axes._subplots.AxesSubplot at 0x7fba7e92d9e8>"
            ]
          },
          "metadata": {
            "tags": []
          },
          "execution_count": 8
        },
        {
          "output_type": "display_data",
          "data": {
            "image/png": "[encoded data removed]",
            "text/plain": [
              "<Figure size 432x288 with 1 Axes>"
            ]
          },
          "metadata": {
            "tags": [],
            "needs_background": "light"
          }
        }
      ]
    },
    {
      "cell_type": "markdown",
      "metadata": {
        "id": "WBTv2idc-l1a",
        "colab_type": "text"
      },
      "source": [
        "There are only 3% of the data which are fraud and the rest 97% are not fraud. This is clearly a class imbalance problem. In this notebook we will look to solve this type of problems."
      ]
    },
    {
      "cell_type": "markdown",
      "metadata": {
        "id": "zks_JnKq_6tN",
        "colab_type": "text"
      },
      "source": [
        "### Missing values\n",
        "Generally datasets always have some missing values. May be done during data collection, or due to some data validation rule.\n"
      ]
    },
    {
      "cell_type": "code",
      "metadata": {
        "id": "drHmFMx_ANjt",
        "colab_type": "code",
        "colab": {}
      },
      "source": [
        "def miss_val_info(df):\n",
        "  \"\"\"\n",
        "  This function will take a dataframe and calculates the frequency and percentage of missing values in each column.\n",
        "  \"\"\"\n",
        "  missing_count = df.isnull().sum().sort_values(ascending = False)\n",
        "  missing_percent = round(missing_count / len(df) * 100, 2)\n",
        "  missing_info = pd.concat([missing_count, missing_percent], axis = 1, keys=['Missing Value Count','Percent of missing values'])\n",
        "  return missing_info[missing_info['Missing Value Count'] != 0]\n"
      ],
      "execution_count": null,
      "outputs": []
    },
    {
      "cell_type": "code",
      "metadata": {
        "id": "EHgTEqHR-Kk2",
        "colab_type": "code",
        "colab": {
          "base_uri": "https://localhost:8080/",
          "height": 419
        },
        "outputId": "737a0d75-5f91-402a-f126-d84c9e2c11a6"
      },
      "source": [
        "miss_val_info(fraud_data)      # Display the frequency and percentage of data missing in each column"
      ],
      "execution_count": null,
      "outputs": [
        {
          "output_type": "execute_result",
          "data": {
            "text/html": [
              "<div>\n",
              "<style scoped>\n",
              "    .dataframe tbody tr th:only-of-type {\n",
              "        vertical-align: middle;\n",
              "    }\n",
              "\n",
              "    .dataframe tbody tr th {\n",
              "        vertical-align: top;\n",
              "    }\n",
              "\n",
              "    .dataframe thead th {\n",
              "        text-align: right;\n",
              "    }\n",
              "</style>\n",
              "<table border=\"1\" class=\"dataframe\">\n",
              "  <thead>\n",
              "    <tr style=\"text-align: right;\">\n",
              "      <th></th>\n",
              "      <th>Missing Value Count</th>\n",
              "      <th>Percent of missing values</th>\n",
              "    </tr>\n",
              "  </thead>\n",
              "  <tbody>\n",
              "    <tr>\n",
              "      <th>id_24</th>\n",
              "      <td>58567</td>\n",
              "      <td>99.18</td>\n",
              "    </tr>\n",
              "    <tr>\n",
              "      <th>id_25</th>\n",
              "      <td>58530</td>\n",
              "      <td>99.11</td>\n",
              "    </tr>\n",
              "    <tr>\n",
              "      <th>id_27</th>\n",
              "      <td>58529</td>\n",
              "      <td>99.11</td>\n",
              "    </tr>\n",
              "    <tr>\n",
              "      <th>id_21</th>\n",
              "      <td>58529</td>\n",
              "      <td>99.11</td>\n",
              "    </tr>\n",
              "    <tr>\n",
              "      <th>id_22</th>\n",
              "      <td>58529</td>\n",
              "      <td>99.11</td>\n",
              "    </tr>\n",
              "    <tr>\n",
              "      <th>...</th>\n",
              "      <td>...</td>\n",
              "      <td>...</td>\n",
              "    </tr>\n",
              "    <tr>\n",
              "      <th>V309</th>\n",
              "      <td>3</td>\n",
              "      <td>0.01</td>\n",
              "    </tr>\n",
              "    <tr>\n",
              "      <th>V308</th>\n",
              "      <td>3</td>\n",
              "      <td>0.01</td>\n",
              "    </tr>\n",
              "    <tr>\n",
              "      <th>V307</th>\n",
              "      <td>3</td>\n",
              "      <td>0.01</td>\n",
              "    </tr>\n",
              "    <tr>\n",
              "      <th>V306</th>\n",
              "      <td>3</td>\n",
              "      <td>0.01</td>\n",
              "    </tr>\n",
              "    <tr>\n",
              "      <th>V290</th>\n",
              "      <td>3</td>\n",
              "      <td>0.01</td>\n",
              "    </tr>\n",
              "  </tbody>\n",
              "</table>\n",
              "<p>414 rows × 2 columns</p>\n",
              "</div>"
            ],
            "text/plain": [
              "       Missing Value Count  Percent of missing values\n",
              "id_24                58567                      99.18\n",
              "id_25                58530                      99.11\n",
              "id_27                58529                      99.11\n",
              "id_21                58529                      99.11\n",
              "id_22                58529                      99.11\n",
              "...                    ...                        ...\n",
              "V309                     3                       0.01\n",
              "V308                     3                       0.01\n",
              "V307                     3                       0.01\n",
              "V306                     3                       0.01\n",
              "V290                     3                       0.01\n",
              "\n",
              "[414 rows x 2 columns]"
            ]
          },
          "metadata": {
            "tags": []
          },
          "execution_count": 10
        }
      ]
    },
    {
      "cell_type": "markdown",
      "metadata": {
        "id": "02bqVJEbBxQc",
        "colab_type": "text"
      },
      "source": [
        "Out of 434 columns, 414 have some missing values."
      ]
    },
    {
      "cell_type": "markdown",
      "metadata": {
        "id": "qjdy3vG5BmER",
        "colab_type": "text"
      },
      "source": [
        "### Dealing with Missing Values\n",
        "*  Filling the missing values with right technique can change our results drastically. \n",
        "*  Also, there is no fixed rule of filling the missing values.\n",
        "*  No method is perfect for filling the missing values. We need to use our common sense, our logic, or may need to see what works for that particular data set.\n",
        "\n",
        "### Ways of dealing with missing values:\n",
        "\n",
        "**Default value:** One can fill the missing value by default value on the basis of one's 1) understanding of variable, 2) context / data insight or 3) common sense / logic. \n",
        "\n",
        "**Deleting:** Suppose in our dataset we have too many missing values in\n",
        "\n",
        "*  Column, we can drop the column\n",
        "*  Row, drop the row. Usually we do this for a large enough dataset.\n",
        "\n",
        "**Mean/Median/Mode - Imputation:** We fill missing values by mean or median or mode(i.e. maximum occuring value). Generally we use mean but if there are some outliers, we fill missing values with median. Mode is used to fill missing values for categorical column."
      ]
    },
    {
      "cell_type": "markdown",
      "metadata": {
        "id": "eZzsrECfAaSV",
        "colab_type": "text"
      },
      "source": [
        "Eliminate columns with more than 20% missing values"
      ]
    },
    {
      "cell_type": "code",
      "metadata": {
        "id": "qv5kehT_ALOO",
        "colab_type": "code",
        "colab": {}
      },
      "source": [
        "fraud_data = fraud_data[fraud_data.columns[fraud_data.isnull().mean() < 0.2]]"
      ],
      "execution_count": null,
      "outputs": []
    },
    {
      "cell_type": "markdown",
      "metadata": {
        "id": "ysp1sghyDU1s",
        "colab_type": "text"
      },
      "source": [
        "Here we will fill missing values with mean value for the numerical column."
      ]
    },
    {
      "cell_type": "code",
      "metadata": {
        "id": "KSvRk1xJBAyR",
        "colab_type": "code",
        "colab": {}
      },
      "source": [
        "# filling missing values of numerical columns with mean value.\n",
        "num_cols = fraud_data.select_dtypes(include=np.number).columns      # getting all the numerical columns\n",
        "\n",
        "fraud_data[num_cols] = fraud_data[num_cols].fillna(fraud_data[num_cols].mean())   # fills the missing values with mean"
      ],
      "execution_count": null,
      "outputs": []
    },
    {
      "cell_type": "markdown",
      "metadata": {
        "id": "yK7ANXA5Eoeh",
        "colab_type": "text"
      },
      "source": [
        "Filling categorical columns with mode (i.e. maximum occuring element in the column)"
      ]
    },
    {
      "cell_type": "code",
      "metadata": {
        "id": "UeUz0v1ZEhAY",
        "colab_type": "code",
        "colab": {}
      },
      "source": [
        "cat_cols = fraud_data.select_dtypes(include = 'object').columns    # getting all the categorical columns\n",
        "\n",
        "fraud_data[cat_cols] = fraud_data[cat_cols].fillna(fraud_data[cat_cols].mode().iloc[0])  # fills the missing values with maximum occuring element in the column"
      ],
      "execution_count": null,
      "outputs": []
    },
    {
      "cell_type": "code",
      "metadata": {
        "id": "ajSX2MhlFbWz",
        "colab_type": "code",
        "colab": {
          "base_uri": "https://localhost:8080/",
          "height": 49
        },
        "outputId": "1ff193c8-4138-4a74-e981-3511a7735fd3"
      },
      "source": [
        "# Let's have a look if there still exist any missing values\n",
        "miss_val_info(fraud_data)"
      ],
      "execution_count": null,
      "outputs": [
        {
          "output_type": "execute_result",
          "data": {
            "text/html": [
              "<div>\n",
              "<style scoped>\n",
              "    .dataframe tbody tr th:only-of-type {\n",
              "        vertical-align: middle;\n",
              "    }\n",
              "\n",
              "    .dataframe tbody tr th {\n",
              "        vertical-align: top;\n",
              "    }\n",
              "\n",
              "    .dataframe thead th {\n",
              "        text-align: right;\n",
              "    }\n",
              "</style>\n",
              "<table border=\"1\" class=\"dataframe\">\n",
              "  <thead>\n",
              "    <tr style=\"text-align: right;\">\n",
              "      <th></th>\n",
              "      <th>Missing Value Count</th>\n",
              "      <th>Percent of missing values</th>\n",
              "    </tr>\n",
              "  </thead>\n",
              "  <tbody>\n",
              "  </tbody>\n",
              "</table>\n",
              "</div>"
            ],
            "text/plain": [
              "Empty DataFrame\n",
              "Columns: [Missing Value Count, Percent of missing values]\n",
              "Index: []"
            ]
          },
          "metadata": {
            "tags": []
          },
          "execution_count": 14
        }
      ]
    },
    {
      "cell_type": "markdown",
      "metadata": {
        "id": "LW9XOIz6CGBj",
        "colab_type": "text"
      },
      "source": [
        "Notice, now we don't have any column with missing value."
      ]
    },
    {
      "cell_type": "markdown",
      "metadata": {
        "id": "qKO21Qg8NSQc",
        "colab_type": "text"
      },
      "source": [
        "### One Hot Encoding (Creating dummies for categorical columns)\n",
        "In this strategy, each category value is converted into a new column and assigned a 1 or 0 (notation for true/false) value to the column. In Python there is a class 'OneHotEncoder' in 'sklearn.preprocessing' to do this task, but here we will use pandas function 'get_dummies()'. This get_dummies() does the same work as done by 'OneHotEncoder' form sklearn.preprocessing.\n",
        "\n",
        "So, let's create dummy variables."
      ]
    },
    {
      "cell_type": "code",
      "metadata": {
        "id": "ydD6ZRZrMFFu",
        "colab_type": "code",
        "colab": {}
      },
      "source": [
        "fraud_data = pd.get_dummies(fraud_data, columns=cat_cols)    # earlier we have collected all the categorical columns in cat_cols"
      ],
      "execution_count": null,
      "outputs": []
    },
    {
      "cell_type": "code",
      "metadata": {
        "id": "ulgnsjelE3I6",
        "colab_type": "code",
        "colab": {
          "base_uri": "https://localhost:8080/",
          "height": 270
        },
        "outputId": "7d0aabd9-3af9-423d-a1f9-11becd4c43d3"
      },
      "source": [
        "fraud_data.head()"
      ],
      "execution_count": null,
      "outputs": [
        {
          "output_type": "execute_result",
          "data": {
            "text/html": [
              "<div>\n",
              "<style scoped>\n",
              "    .dataframe tbody tr th:only-of-type {\n",
              "        vertical-align: middle;\n",
              "    }\n",
              "\n",
              "    .dataframe tbody tr th {\n",
              "        vertical-align: top;\n",
              "    }\n",
              "\n",
              "    .dataframe thead th {\n",
              "        text-align: right;\n",
              "    }\n",
              "</style>\n",
              "<table border=\"1\" class=\"dataframe\">\n",
              "  <thead>\n",
              "    <tr style=\"text-align: right;\">\n",
              "      <th></th>\n",
              "      <th>TransactionID</th>\n",
              "      <th>isFraud</th>\n",
              "      <th>TransactionDT</th>\n",
              "      <th>TransactionAmt</th>\n",
              "      <th>card1</th>\n",
              "      <th>card2</th>\n",
              "      <th>card3</th>\n",
              "      <th>card5</th>\n",
              "      <th>addr1</th>\n",
              "      <th>addr2</th>\n",
              "      <th>C1</th>\n",
              "      <th>C2</th>\n",
              "      <th>C3</th>\n",
              "      <th>C4</th>\n",
              "      <th>C5</th>\n",
              "      <th>C6</th>\n",
              "      <th>C7</th>\n",
              "      <th>C8</th>\n",
              "      <th>C9</th>\n",
              "      <th>C10</th>\n",
              "      <th>C11</th>\n",
              "      <th>C12</th>\n",
              "      <th>C13</th>\n",
              "      <th>C14</th>\n",
              "      <th>D1</th>\n",
              "      <th>D10</th>\n",
              "      <th>D15</th>\n",
              "      <th>V12</th>\n",
              "      <th>V13</th>\n",
              "      <th>V14</th>\n",
              "      <th>V15</th>\n",
              "      <th>V16</th>\n",
              "      <th>V17</th>\n",
              "      <th>V18</th>\n",
              "      <th>V19</th>\n",
              "      <th>V20</th>\n",
              "      <th>V21</th>\n",
              "      <th>V22</th>\n",
              "      <th>V23</th>\n",
              "      <th>V24</th>\n",
              "      <th>...</th>\n",
              "      <th>P_emaildomain_hotmail.com</th>\n",
              "      <th>P_emaildomain_hotmail.de</th>\n",
              "      <th>P_emaildomain_hotmail.es</th>\n",
              "      <th>P_emaildomain_hotmail.fr</th>\n",
              "      <th>P_emaildomain_icloud.com</th>\n",
              "      <th>P_emaildomain_juno.com</th>\n",
              "      <th>P_emaildomain_live.com</th>\n",
              "      <th>P_emaildomain_live.com.mx</th>\n",
              "      <th>P_emaildomain_live.fr</th>\n",
              "      <th>P_emaildomain_mac.com</th>\n",
              "      <th>P_emaildomain_mail.com</th>\n",
              "      <th>P_emaildomain_me.com</th>\n",
              "      <th>P_emaildomain_msn.com</th>\n",
              "      <th>P_emaildomain_netzero.com</th>\n",
              "      <th>P_emaildomain_netzero.net</th>\n",
              "      <th>P_emaildomain_optonline.net</th>\n",
              "      <th>P_emaildomain_outlook.com</th>\n",
              "      <th>P_emaildomain_outlook.es</th>\n",
              "      <th>P_emaildomain_prodigy.net.mx</th>\n",
              "      <th>P_emaildomain_protonmail.com</th>\n",
              "      <th>P_emaildomain_ptd.net</th>\n",
              "      <th>P_emaildomain_q.com</th>\n",
              "      <th>P_emaildomain_roadrunner.com</th>\n",
              "      <th>P_emaildomain_rocketmail.com</th>\n",
              "      <th>P_emaildomain_sbcglobal.net</th>\n",
              "      <th>P_emaildomain_sc.rr.com</th>\n",
              "      <th>P_emaildomain_servicios-ta.com</th>\n",
              "      <th>P_emaildomain_suddenlink.net</th>\n",
              "      <th>P_emaildomain_twc.com</th>\n",
              "      <th>P_emaildomain_verizon.net</th>\n",
              "      <th>P_emaildomain_web.de</th>\n",
              "      <th>P_emaildomain_windstream.net</th>\n",
              "      <th>P_emaildomain_yahoo.co.jp</th>\n",
              "      <th>P_emaildomain_yahoo.co.uk</th>\n",
              "      <th>P_emaildomain_yahoo.com</th>\n",
              "      <th>P_emaildomain_yahoo.com.mx</th>\n",
              "      <th>P_emaildomain_yahoo.de</th>\n",
              "      <th>P_emaildomain_yahoo.es</th>\n",
              "      <th>P_emaildomain_yahoo.fr</th>\n",
              "      <th>P_emaildomain_ymail.com</th>\n",
              "    </tr>\n",
              "  </thead>\n",
              "  <tbody>\n",
              "    <tr>\n",
              "      <th>0</th>\n",
              "      <td>2994681</td>\n",
              "      <td>0</td>\n",
              "      <td>242834</td>\n",
              "      <td>25.000</td>\n",
              "      <td>9803</td>\n",
              "      <td>583.0</td>\n",
              "      <td>150.0</td>\n",
              "      <td>226.0</td>\n",
              "      <td>269.0</td>\n",
              "      <td>87.0</td>\n",
              "      <td>1</td>\n",
              "      <td>1</td>\n",
              "      <td>0</td>\n",
              "      <td>0</td>\n",
              "      <td>0</td>\n",
              "      <td>1</td>\n",
              "      <td>0</td>\n",
              "      <td>1</td>\n",
              "      <td>0</td>\n",
              "      <td>1</td>\n",
              "      <td>1</td>\n",
              "      <td>0</td>\n",
              "      <td>1</td>\n",
              "      <td>1</td>\n",
              "      <td>0.0</td>\n",
              "      <td>124.267325</td>\n",
              "      <td>163.966616</td>\n",
              "      <td>0.55965</td>\n",
              "      <td>0.597624</td>\n",
              "      <td>0.999398</td>\n",
              "      <td>0.124619</td>\n",
              "      <td>0.125551</td>\n",
              "      <td>0.137374</td>\n",
              "      <td>0.13883</td>\n",
              "      <td>0.814731</td>\n",
              "      <td>0.845542</td>\n",
              "      <td>0.133239</td>\n",
              "      <td>0.135394</td>\n",
              "      <td>1.035702</td>\n",
              "      <td>1.058825</td>\n",
              "      <td>...</td>\n",
              "      <td>0</td>\n",
              "      <td>0</td>\n",
              "      <td>0</td>\n",
              "      <td>0</td>\n",
              "      <td>0</td>\n",
              "      <td>0</td>\n",
              "      <td>0</td>\n",
              "      <td>0</td>\n",
              "      <td>0</td>\n",
              "      <td>0</td>\n",
              "      <td>0</td>\n",
              "      <td>0</td>\n",
              "      <td>0</td>\n",
              "      <td>0</td>\n",
              "      <td>0</td>\n",
              "      <td>0</td>\n",
              "      <td>0</td>\n",
              "      <td>0</td>\n",
              "      <td>0</td>\n",
              "      <td>0</td>\n",
              "      <td>0</td>\n",
              "      <td>0</td>\n",
              "      <td>0</td>\n",
              "      <td>0</td>\n",
              "      <td>0</td>\n",
              "      <td>0</td>\n",
              "      <td>0</td>\n",
              "      <td>0</td>\n",
              "      <td>0</td>\n",
              "      <td>0</td>\n",
              "      <td>0</td>\n",
              "      <td>0</td>\n",
              "      <td>0</td>\n",
              "      <td>0</td>\n",
              "      <td>1</td>\n",
              "      <td>0</td>\n",
              "      <td>0</td>\n",
              "      <td>0</td>\n",
              "      <td>0</td>\n",
              "      <td>0</td>\n",
              "    </tr>\n",
              "    <tr>\n",
              "      <th>1</th>\n",
              "      <td>3557242</td>\n",
              "      <td>0</td>\n",
              "      <td>15123000</td>\n",
              "      <td>117.000</td>\n",
              "      <td>7919</td>\n",
              "      <td>194.0</td>\n",
              "      <td>150.0</td>\n",
              "      <td>166.0</td>\n",
              "      <td>181.0</td>\n",
              "      <td>87.0</td>\n",
              "      <td>1</td>\n",
              "      <td>4</td>\n",
              "      <td>0</td>\n",
              "      <td>0</td>\n",
              "      <td>0</td>\n",
              "      <td>1</td>\n",
              "      <td>0</td>\n",
              "      <td>0</td>\n",
              "      <td>3</td>\n",
              "      <td>0</td>\n",
              "      <td>3</td>\n",
              "      <td>0</td>\n",
              "      <td>4</td>\n",
              "      <td>1</td>\n",
              "      <td>63.0</td>\n",
              "      <td>4.000000</td>\n",
              "      <td>4.000000</td>\n",
              "      <td>1.00000</td>\n",
              "      <td>1.000000</td>\n",
              "      <td>1.000000</td>\n",
              "      <td>0.000000</td>\n",
              "      <td>0.000000</td>\n",
              "      <td>0.000000</td>\n",
              "      <td>0.00000</td>\n",
              "      <td>1.000000</td>\n",
              "      <td>1.000000</td>\n",
              "      <td>0.000000</td>\n",
              "      <td>0.000000</td>\n",
              "      <td>1.000000</td>\n",
              "      <td>1.000000</td>\n",
              "      <td>...</td>\n",
              "      <td>0</td>\n",
              "      <td>0</td>\n",
              "      <td>0</td>\n",
              "      <td>0</td>\n",
              "      <td>0</td>\n",
              "      <td>0</td>\n",
              "      <td>0</td>\n",
              "      <td>0</td>\n",
              "      <td>0</td>\n",
              "      <td>0</td>\n",
              "      <td>0</td>\n",
              "      <td>0</td>\n",
              "      <td>0</td>\n",
              "      <td>0</td>\n",
              "      <td>0</td>\n",
              "      <td>0</td>\n",
              "      <td>0</td>\n",
              "      <td>0</td>\n",
              "      <td>0</td>\n",
              "      <td>0</td>\n",
              "      <td>0</td>\n",
              "      <td>0</td>\n",
              "      <td>0</td>\n",
              "      <td>0</td>\n",
              "      <td>0</td>\n",
              "      <td>0</td>\n",
              "      <td>0</td>\n",
              "      <td>0</td>\n",
              "      <td>0</td>\n",
              "      <td>0</td>\n",
              "      <td>0</td>\n",
              "      <td>0</td>\n",
              "      <td>0</td>\n",
              "      <td>0</td>\n",
              "      <td>0</td>\n",
              "      <td>0</td>\n",
              "      <td>0</td>\n",
              "      <td>0</td>\n",
              "      <td>0</td>\n",
              "      <td>0</td>\n",
              "    </tr>\n",
              "    <tr>\n",
              "      <th>2</th>\n",
              "      <td>3327470</td>\n",
              "      <td>0</td>\n",
              "      <td>8378575</td>\n",
              "      <td>73.773</td>\n",
              "      <td>12778</td>\n",
              "      <td>500.0</td>\n",
              "      <td>185.0</td>\n",
              "      <td>224.0</td>\n",
              "      <td>284.0</td>\n",
              "      <td>60.0</td>\n",
              "      <td>1</td>\n",
              "      <td>3</td>\n",
              "      <td>0</td>\n",
              "      <td>1</td>\n",
              "      <td>0</td>\n",
              "      <td>1</td>\n",
              "      <td>1</td>\n",
              "      <td>0</td>\n",
              "      <td>0</td>\n",
              "      <td>0</td>\n",
              "      <td>2</td>\n",
              "      <td>2</td>\n",
              "      <td>3</td>\n",
              "      <td>1</td>\n",
              "      <td>54.0</td>\n",
              "      <td>0.000000</td>\n",
              "      <td>54.000000</td>\n",
              "      <td>0.00000</td>\n",
              "      <td>0.000000</td>\n",
              "      <td>1.000000</td>\n",
              "      <td>1.000000</td>\n",
              "      <td>1.000000</td>\n",
              "      <td>0.000000</td>\n",
              "      <td>0.00000</td>\n",
              "      <td>1.000000</td>\n",
              "      <td>1.000000</td>\n",
              "      <td>0.000000</td>\n",
              "      <td>0.000000</td>\n",
              "      <td>1.000000</td>\n",
              "      <td>1.000000</td>\n",
              "      <td>...</td>\n",
              "      <td>1</td>\n",
              "      <td>0</td>\n",
              "      <td>0</td>\n",
              "      <td>0</td>\n",
              "      <td>0</td>\n",
              "      <td>0</td>\n",
              "      <td>0</td>\n",
              "      <td>0</td>\n",
              "      <td>0</td>\n",
              "      <td>0</td>\n",
              "      <td>0</td>\n",
              "      <td>0</td>\n",
              "      <td>0</td>\n",
              "      <td>0</td>\n",
              "      <td>0</td>\n",
              "      <td>0</td>\n",
              "      <td>0</td>\n",
              "      <td>0</td>\n",
              "      <td>0</td>\n",
              "      <td>0</td>\n",
              "      <td>0</td>\n",
              "      <td>0</td>\n",
              "      <td>0</td>\n",
              "      <td>0</td>\n",
              "      <td>0</td>\n",
              "      <td>0</td>\n",
              "      <td>0</td>\n",
              "      <td>0</td>\n",
              "      <td>0</td>\n",
              "      <td>0</td>\n",
              "      <td>0</td>\n",
              "      <td>0</td>\n",
              "      <td>0</td>\n",
              "      <td>0</td>\n",
              "      <td>0</td>\n",
              "      <td>0</td>\n",
              "      <td>0</td>\n",
              "      <td>0</td>\n",
              "      <td>0</td>\n",
              "      <td>0</td>\n",
              "    </tr>\n",
              "    <tr>\n",
              "      <th>3</th>\n",
              "      <td>3118781</td>\n",
              "      <td>0</td>\n",
              "      <td>2607840</td>\n",
              "      <td>400.000</td>\n",
              "      <td>12316</td>\n",
              "      <td>548.0</td>\n",
              "      <td>150.0</td>\n",
              "      <td>195.0</td>\n",
              "      <td>441.0</td>\n",
              "      <td>87.0</td>\n",
              "      <td>1</td>\n",
              "      <td>1</td>\n",
              "      <td>0</td>\n",
              "      <td>1</td>\n",
              "      <td>0</td>\n",
              "      <td>1</td>\n",
              "      <td>0</td>\n",
              "      <td>1</td>\n",
              "      <td>0</td>\n",
              "      <td>1</td>\n",
              "      <td>1</td>\n",
              "      <td>0</td>\n",
              "      <td>1</td>\n",
              "      <td>1</td>\n",
              "      <td>0.0</td>\n",
              "      <td>124.267325</td>\n",
              "      <td>163.966616</td>\n",
              "      <td>0.55965</td>\n",
              "      <td>0.597624</td>\n",
              "      <td>0.999398</td>\n",
              "      <td>0.124619</td>\n",
              "      <td>0.125551</td>\n",
              "      <td>0.137374</td>\n",
              "      <td>0.13883</td>\n",
              "      <td>0.814731</td>\n",
              "      <td>0.845542</td>\n",
              "      <td>0.133239</td>\n",
              "      <td>0.135394</td>\n",
              "      <td>1.035702</td>\n",
              "      <td>1.058825</td>\n",
              "      <td>...</td>\n",
              "      <td>0</td>\n",
              "      <td>0</td>\n",
              "      <td>0</td>\n",
              "      <td>0</td>\n",
              "      <td>0</td>\n",
              "      <td>0</td>\n",
              "      <td>0</td>\n",
              "      <td>0</td>\n",
              "      <td>0</td>\n",
              "      <td>0</td>\n",
              "      <td>0</td>\n",
              "      <td>0</td>\n",
              "      <td>0</td>\n",
              "      <td>0</td>\n",
              "      <td>0</td>\n",
              "      <td>0</td>\n",
              "      <td>0</td>\n",
              "      <td>0</td>\n",
              "      <td>0</td>\n",
              "      <td>0</td>\n",
              "      <td>0</td>\n",
              "      <td>0</td>\n",
              "      <td>0</td>\n",
              "      <td>0</td>\n",
              "      <td>0</td>\n",
              "      <td>0</td>\n",
              "      <td>0</td>\n",
              "      <td>0</td>\n",
              "      <td>0</td>\n",
              "      <td>0</td>\n",
              "      <td>0</td>\n",
              "      <td>0</td>\n",
              "      <td>0</td>\n",
              "      <td>0</td>\n",
              "      <td>0</td>\n",
              "      <td>0</td>\n",
              "      <td>0</td>\n",
              "      <td>0</td>\n",
              "      <td>0</td>\n",
              "      <td>0</td>\n",
              "    </tr>\n",
              "    <tr>\n",
              "      <th>4</th>\n",
              "      <td>3459772</td>\n",
              "      <td>0</td>\n",
              "      <td>12226544</td>\n",
              "      <td>31.950</td>\n",
              "      <td>9002</td>\n",
              "      <td>453.0</td>\n",
              "      <td>150.0</td>\n",
              "      <td>226.0</td>\n",
              "      <td>264.0</td>\n",
              "      <td>87.0</td>\n",
              "      <td>3</td>\n",
              "      <td>3</td>\n",
              "      <td>0</td>\n",
              "      <td>0</td>\n",
              "      <td>3</td>\n",
              "      <td>4</td>\n",
              "      <td>0</td>\n",
              "      <td>0</td>\n",
              "      <td>3</td>\n",
              "      <td>0</td>\n",
              "      <td>2</td>\n",
              "      <td>0</td>\n",
              "      <td>33</td>\n",
              "      <td>3</td>\n",
              "      <td>54.0</td>\n",
              "      <td>71.000000</td>\n",
              "      <td>620.000000</td>\n",
              "      <td>1.00000</td>\n",
              "      <td>1.000000</td>\n",
              "      <td>1.000000</td>\n",
              "      <td>0.000000</td>\n",
              "      <td>0.000000</td>\n",
              "      <td>0.000000</td>\n",
              "      <td>0.00000</td>\n",
              "      <td>0.000000</td>\n",
              "      <td>0.000000</td>\n",
              "      <td>0.000000</td>\n",
              "      <td>0.000000</td>\n",
              "      <td>1.000000</td>\n",
              "      <td>1.000000</td>\n",
              "      <td>...</td>\n",
              "      <td>0</td>\n",
              "      <td>0</td>\n",
              "      <td>0</td>\n",
              "      <td>0</td>\n",
              "      <td>0</td>\n",
              "      <td>0</td>\n",
              "      <td>0</td>\n",
              "      <td>0</td>\n",
              "      <td>0</td>\n",
              "      <td>0</td>\n",
              "      <td>0</td>\n",
              "      <td>0</td>\n",
              "      <td>0</td>\n",
              "      <td>0</td>\n",
              "      <td>0</td>\n",
              "      <td>0</td>\n",
              "      <td>0</td>\n",
              "      <td>0</td>\n",
              "      <td>0</td>\n",
              "      <td>0</td>\n",
              "      <td>0</td>\n",
              "      <td>0</td>\n",
              "      <td>0</td>\n",
              "      <td>0</td>\n",
              "      <td>0</td>\n",
              "      <td>0</td>\n",
              "      <td>0</td>\n",
              "      <td>0</td>\n",
              "      <td>0</td>\n",
              "      <td>0</td>\n",
              "      <td>0</td>\n",
              "      <td>0</td>\n",
              "      <td>0</td>\n",
              "      <td>0</td>\n",
              "      <td>1</td>\n",
              "      <td>0</td>\n",
              "      <td>0</td>\n",
              "      <td>0</td>\n",
              "      <td>0</td>\n",
              "      <td>0</td>\n",
              "    </tr>\n",
              "  </tbody>\n",
              "</table>\n",
              "<p>5 rows × 250 columns</p>\n",
              "</div>"
            ],
            "text/plain": [
              "   TransactionID  isFraud  ...  P_emaildomain_yahoo.fr  P_emaildomain_ymail.com\n",
              "0        2994681        0  ...                       0                        0\n",
              "1        3557242        0  ...                       0                        0\n",
              "2        3327470        0  ...                       0                        0\n",
              "3        3118781        0  ...                       0                        0\n",
              "4        3459772        0  ...                       0                        0\n",
              "\n",
              "[5 rows x 250 columns]"
            ]
          },
          "metadata": {
            "tags": []
          },
          "execution_count": 16
        }
      ]
    },
    {
      "cell_type": "markdown",
      "metadata": {
        "id": "kAkHAuGaE_Xo",
        "colab_type": "text"
      },
      "source": [
        "If you notice, a lot of dummy variables are created like; **P_emaildomain_hotmail.com, P_emaildomain_hotmail.de,** etc."
      ]
    },
    {
      "cell_type": "markdown",
      "metadata": {
        "id": "DQPCxfdDn0d5",
        "colab_type": "text"
      },
      "source": [
        "#### Separate Input Features and Output Features"
      ]
    },
    {
      "cell_type": "code",
      "metadata": {
        "id": "UQWaD295Lr7p",
        "colab_type": "code",
        "colab": {}
      },
      "source": [
        "# Separate input features and output feature\n",
        "X = fraud_data.drop(columns = ['isFraud'])       # input features\n",
        "Y = fraud_data.isFraud      # output feature\n",
        "\n",
        "from sklearn.model_selection import train_test_split\n",
        "\n",
        "# Split randomly into 70% train data and 30% test data\n",
        "X_train, X_test, Y_train, Y_test = train_test_split(X, Y, test_size = 0.3, random_state = 123)"
      ],
      "execution_count": null,
      "outputs": []
    },
    {
      "cell_type": "markdown",
      "metadata": {
        "id": "0myjC1VxpHyx",
        "colab_type": "text"
      },
      "source": [
        "# Dealing with Imbalanced Data\n",
        "Most machine learning algorithms work best when the number of samples in each class are about equal. This is because most algorithms are designed to maximize accuracy and reduce error.\n"
      ]
    },
    {
      "cell_type": "markdown",
      "metadata": {
        "id": "u9vPjbAMvDFX",
        "colab_type": "text"
      },
      "source": [
        "3. **Generate Synthetic Samples:** Here we will use imblearn’s SMOTE or Synthetic Minority Oversampling Technique. SMOTE uses a nearest neighbors algorithm to generate new and synthetic data we can use for training our model.\n",
        "\n",
        "Again, it’s important to generate the new samples only in the training set to ensure our model generalizes well to unseen data."
      ]
    },
    {
      "cell_type": "code",
      "metadata": {
        "id": "FWkp26p-uwF2",
        "colab_type": "code",
        "colab": {}
      },
      "source": [
        "# import SMOTE \n",
        "from imblearn.over_sampling import SMOTE\n",
        "\n",
        "sm = SMOTE(random_state = 25, ratio = 1.0)   # again we are eqalizing both the classes"
      ],
      "execution_count": null,
      "outputs": []
    },
    {
      "cell_type": "code",
      "metadata": {
        "id": "Yf7sHze_wFJp",
        "colab_type": "code",
        "colab": {}
      },
      "source": [
        "# fit the sampling\n",
        "X_train, Y_train = sm.fit_sample(X_train, Y_train)"
      ],
      "execution_count": null,
      "outputs": []
    },
    {
      "cell_type": "code",
      "metadata": {
        "id": "15XOWmqPwULH",
        "colab_type": "code",
        "colab": {
          "base_uri": "https://localhost:8080/",
          "height": 34
        },
        "outputId": "9f54633e-e96d-4f6b-d2c8-aab6b660ed98"
      },
      "source": [
        "np.unique(Y_train, return_counts=True)"
      ],
      "execution_count": null,
      "outputs": [
        {
          "output_type": "execute_result",
          "data": {
            "text/plain": [
              "(array([0, 1]), array([39944, 39944]))"
            ]
          },
          "metadata": {
            "tags": []
          },
          "execution_count": 20
        }
      ]
    },
    {
      "cell_type": "markdown",
      "metadata": {
        "id": "j8m9UNkRw1LV",
        "colab_type": "text"
      },
      "source": [
        "The count of both the classes are equal."
      ]
    },
    {
      "cell_type": "markdown",
      "metadata": {
        "id": "--K223wHPMZe",
        "colab_type": "text"
      },
      "source": [
        "### Building Random Forest Model\n",
        "A Random Forest 🌲🌲🌲 is actually just a bunch of Decision Trees 🌲 bundled together (ohhhhh that’s why it’s called a forest). Here we will build Random Forest Model."
      ]
    },
    {
      "cell_type": "code",
      "metadata": {
        "id": "p8M-21Xp4EhV",
        "colab_type": "code",
        "colab": {}
      },
      "source": [
        "from sklearn.ensemble import RandomForestClassifier\n",
        "rfc = RandomForestClassifier(criterion='entropy')"
      ],
      "execution_count": null,
      "outputs": []
    },
    {
      "cell_type": "code",
      "metadata": {
        "id": "I1zxcn6P5Rud",
        "colab_type": "code",
        "colab": {
          "base_uri": "https://localhost:8080/",
          "height": 153
        },
        "outputId": "45ea6e81-b43f-4d36-f661-eaede6127d87"
      },
      "source": [
        "rfc.fit(X_train, Y_train)"
      ],
      "execution_count": null,
      "outputs": [
        {
          "output_type": "execute_result",
          "data": {
            "text/plain": [
              "RandomForestClassifier(bootstrap=True, ccp_alpha=0.0, class_weight=None,\n",
              "                       criterion='entropy', max_depth=None, max_features='auto',\n",
              "                       max_leaf_nodes=None, max_samples=None,\n",
              "                       min_impurity_decrease=0.0, min_impurity_split=None,\n",
              "                       min_samples_leaf=1, min_samples_split=2,\n",
              "                       min_weight_fraction_leaf=0.0, n_estimators=100,\n",
              "                       n_jobs=None, oob_score=False, random_state=None,\n",
              "                       verbose=0, warm_start=False)"
            ]
          },
          "metadata": {
            "tags": []
          },
          "execution_count": 22
        }
      ]
    },
    {
      "cell_type": "code",
      "metadata": {
        "id": "9S9hvP8N4RDw",
        "colab_type": "code",
        "colab": {}
      },
      "source": [
        "norm_pred = rfc.predict(X_test)"
      ],
      "execution_count": null,
      "outputs": []
    },
    {
      "cell_type": "code",
      "metadata": {
        "id": "3xC61a48F1Ft",
        "colab_type": "code",
        "colab": {
          "base_uri": "https://localhost:8080/",
          "height": 34
        },
        "outputId": "4b5b8bc2-90be-4a1e-f0da-ebe9404bc2ef"
      },
      "source": [
        "from sklearn.metrics import accuracy_score\n",
        "accuracy_score(Y_test, norm_pred)"
      ],
      "execution_count": null,
      "outputs": [
        {
          "output_type": "execute_result",
          "data": {
            "text/plain": [
              "0.9753908675283626"
            ]
          },
          "metadata": {
            "tags": []
          },
          "execution_count": 32
        }
      ]
    },
    {
      "cell_type": "markdown",
      "metadata": {
        "id": "Yy6hanWt4ho8",
        "colab_type": "text"
      },
      "source": [
        "**When accuracy is a great measure?**\n",
        "Accuracy is a great measure when you have symmetric datasets where values of false positive and false negatives are almost same. If you see the confusion matrix below, false positives (fp = 40) and false negatives (fn = 396) are not even close. So here accuracy score is the not a good measure.\n",
        "\n",
        "Further reading: https://blog.exsilio.com/all/accuracy-precision-recall-f1-score-interpretation-of-performance-measures/"
      ]
    },
    {
      "cell_type": "markdown",
      "metadata": {
        "id": "EWzq6uEV3Tzi",
        "colab_type": "text"
      },
      "source": [
        "#### Confusion Matrix"
      ]
    },
    {
      "cell_type": "code",
      "metadata": {
        "id": "yN-0GY9r3Y2k",
        "colab_type": "code",
        "colab": {
          "base_uri": "https://localhost:8080/",
          "height": 51
        },
        "outputId": "21ef452d-16b8-46eb-dffc-07bb7c0445e2"
      },
      "source": [
        "from sklearn.metrics import confusion_matrix\n",
        "confusion_matrix(Y_test, norm_pred)"
      ],
      "execution_count": null,
      "outputs": [
        {
          "output_type": "execute_result",
          "data": {
            "text/plain": [
              "array([[17065,    40],\n",
              "       [  396,   216]])"
            ]
          },
          "metadata": {
            "tags": []
          },
          "execution_count": 33
        }
      ]
    },
    {
      "cell_type": "code",
      "metadata": {
        "id": "Uh0khULv40AO",
        "colab_type": "code",
        "colab": {
          "base_uri": "https://localhost:8080/",
          "height": 85
        },
        "outputId": "9421310d-12e9-411c-96ef-b5418b614f52"
      },
      "source": [
        "tn, fp, fn, tp = confusion_matrix(Y_test, norm_pred).ravel()\n",
        "print('True Positive: ', tp)\n",
        "print('False Positive: ', fp)\n",
        "print('False Negative: ', fn)\n",
        "print('True Negative: ', tn)"
      ],
      "execution_count": null,
      "outputs": [
        {
          "output_type": "stream",
          "text": [
            "True Positive:  216\n",
            "False Positive:  40\n",
            "False Negative:  396\n",
            "True Negative:  17065\n"
          ],
          "name": "stdout"
        }
      ]
    },
    {
      "cell_type": "markdown",
      "metadata": {
        "id": "uFU2FCKH9MOV",
        "colab_type": "text"
      },
      "source": [
        "Here our goal is to detect those transactions which are fraud. \n",
        "\n",
        "*  Focus on False Negative value. It says there are 396 transactions which are fraud (actual) but predicted as not fraud (predicted). We want to minimize this value.\n",
        "\n",
        "*  Focus on True positive value. It says there are 216 transactions which are fraud transactions (actual) and predicted as fraud. We want to maximize this value. That is we want to maximize the recall value (or sensitivity).\n",
        "\n",
        "*  Focus on True negative value. It says there are 17065 transactions which are not fraud (actual) and predicted as not fraud. We want to maximize this too. That is we want to maximize the specificity.\n",
        "\n",
        "*  Focus on False positive value. It says there are 40 transactions which are not fraud (actual) but predicted as fraud. If the transaction is not fraud and the customer gets a call from the bank, it's good that the customer will get aware. You might think some customer will get irritated. True but it's okay as this is for the benefit of customer only.\n",
        "\n",
        "So here our aim is to balance specificity and sensitivity. Remember AUC - ROC Curve? If not revise here: https://github.com/dphi-official/ML_Models/blob/master/Performance_Evaluation/Performance_Evaluation.ipynb . It is the relationship between sensitivity and specificity. The more area the curve takes the better balance between specificity and sensitivity."
      ]
    },
    {
      "cell_type": "markdown",
      "metadata": {
        "id": "HeTQH8cy4LzY",
        "colab_type": "text"
      },
      "source": [
        "#### AUC - ROC"
      ]
    },
    {
      "cell_type": "code",
      "metadata": {
        "id": "Wb3Fb-bsEuCW",
        "colab_type": "code",
        "colab": {
          "base_uri": "https://localhost:8080/",
          "height": 34
        },
        "outputId": "b3c0783c-8c22-4577-a14b-820f64d0964e"
      },
      "source": [
        "from sklearn.metrics import roc_curve, auc\n",
        "false_positive_rate, true_positive_rate, thresholds = roc_curve(Y_test, norm_pred)\n",
        "roc_auc = auc(false_positive_rate, true_positive_rate)\n",
        "roc_auc"
      ],
      "execution_count": null,
      "outputs": [
        {
          "output_type": "execute_result",
          "data": {
            "text/plain": [
              "0.6753013394776209"
            ]
          },
          "metadata": {
            "tags": []
          },
          "execution_count": 36
        }
      ]
    },
    {
      "cell_type": "code",
      "metadata": {
        "id": "V_b3W1tAGgFm",
        "colab_type": "code",
        "colab": {
          "base_uri": "https://localhost:8080/",
          "height": 638
        },
        "outputId": "044d3618-74c6-4b98-d943-9b03f95bebb5"
      },
      "source": [
        "plt.figure(figsize=(10,10))\n",
        "plt.title('Receiver Operating Characteristic')\n",
        "plt.plot(false_positive_rate,true_positive_rate, color='red',label = 'AUC = %0.2f' % roc_auc)\n",
        "plt.legend(loc = 'lower right')\n",
        "plt.plot([0, 1], [0, 1],linestyle='--')\n",
        "plt.axis('tight')\n",
        "plt.ylabel('True Positive Rate (Sensitivity)')\n",
        "plt.xlabel('False Positive Rate (1-specificiy)')"
      ],
      "execution_count": null,
      "outputs": [
        {
          "output_type": "execute_result",
          "data": {
            "text/plain": [
              "Text(0.5, 0, 'False Positive Rate (1-specificiy)')"
            ]
          },
          "metadata": {
            "tags": []
          },
          "execution_count": 37
        },
        {
          "output_type": "display_data",
          "data": {
            "image/png": "[encoded data removed]",
            "text/plain": [
              "<Figure size 720x720 with 1 Axes>"
            ]
          },
          "metadata": {
            "tags": [],
            "needs_background": "light"
          }
        }
      ]
    },
    {
      "cell_type": "markdown",
      "metadata": {
        "id": "CFooIZrR4q4B",
        "colab_type": "text"
      },
      "source": [
        "### Feature Selection\n",
        "Feature selection is the process of reducing the number of input variables when developing a predictive model.\n",
        "\n",
        "It is desirable to reduce the number of input variables to both reduce the computational cost of modeling and, in some cases, to improve the performance of the model.\n",
        "\n",
        "Here we are using 'slectKBest' from 'sklearn.feature_selection' which selects features according to the k highest scores. It takes two parameters:\n",
        "\n",
        "* **score_func:** **callable**\n",
        "\n",
        "  Function taking two arrays X and y, and returning a pair of arrays (scores, pvalues) or a single array with scores. Default is f_classif (see below “See also”). The default function only works with classification tasks.\n",
        "\n",
        "* **k:  optional, default=10**\n",
        "  \n",
        "  Number of top features to select.\n",
        "\n",
        "\n",
        "When we have numerical features and categorical output we can use 'f_classif' from 'sklearn.feature_selection'.\n",
        "\n",
        "Further reading about feature selection: https://machinelearningmastery.com/feature-selection-with-real-and-categorical-data/\n",
        "\n"
      ]
    },
    {
      "cell_type": "code",
      "metadata": {
        "id": "KwvlPSXR4ckY",
        "colab_type": "code",
        "colab": {}
      },
      "source": [
        "from sklearn.feature_selection import SelectKBest, f_classif"
      ],
      "execution_count": null,
      "outputs": []
    },
    {
      "cell_type": "code",
      "metadata": {
        "id": "TdjhE2Ri4p5U",
        "colab_type": "code",
        "colab": {}
      },
      "source": [
        "selector = SelectKBest(f_classif, k=100)     # Let's say we select 100 best features"
      ],
      "execution_count": null,
      "outputs": []
    },
    {
      "cell_type": "code",
      "metadata": {
        "id": "2BNBrOEO5ev2",
        "colab_type": "code",
        "colab": {}
      },
      "source": [
        "X_new = selector.fit_transform(X, Y)"
      ],
      "execution_count": null,
      "outputs": []
    },
    {
      "cell_type": "code",
      "metadata": {
        "id": "t7ETZ0cT6sDw",
        "colab_type": "code",
        "colab": {}
      },
      "source": [
        "from sklearn.model_selection import train_test_split\n",
        "X_train, X_test, Y_train, Y_test = train_test_split(X_new, Y, test_size = 0.3, random_state = 42)"
      ],
      "execution_count": null,
      "outputs": []
    },
    {
      "cell_type": "code",
      "metadata": {
        "id": "hdcjRY2m57Yk",
        "colab_type": "code",
        "colab": {
          "base_uri": "https://localhost:8080/",
          "height": 153
        },
        "outputId": "2328a1be-3ac0-4d66-a0fe-3b2da69ba66c"
      },
      "source": [
        "rfc.fit(X_train, Y_train)"
      ],
      "execution_count": null,
      "outputs": [
        {
          "output_type": "execute_result",
          "data": {
            "text/plain": [
              "RandomForestClassifier(bootstrap=True, ccp_alpha=0.0, class_weight=None,\n",
              "                       criterion='entropy', max_depth=None, max_features='auto',\n",
              "                       max_leaf_nodes=None, max_samples=None,\n",
              "                       min_impurity_decrease=0.0, min_impurity_split=None,\n",
              "                       min_samples_leaf=1, min_samples_split=2,\n",
              "                       min_weight_fraction_leaf=0.0, n_estimators=100,\n",
              "                       n_jobs=None, oob_score=False, random_state=None,\n",
              "                       verbose=0, warm_start=False)"
            ]
          },
          "metadata": {
            "tags": []
          },
          "execution_count": 55
        }
      ]
    },
    {
      "cell_type": "code",
      "metadata": {
        "id": "8Yg0g4H86MOV",
        "colab_type": "code",
        "colab": {}
      },
      "source": [
        "feat_pred = rfc.predict(X_test)"
      ],
      "execution_count": null,
      "outputs": []
    },
    {
      "cell_type": "code",
      "metadata": {
        "id": "IhxvENpRHj3h",
        "colab_type": "code",
        "colab": {
          "base_uri": "https://localhost:8080/",
          "height": 34
        },
        "outputId": "292751b8-6e41-49aa-f435-9ab22772d721"
      },
      "source": [
        "accuracy_score(Y_test, feat_pred)"
      ],
      "execution_count": null,
      "outputs": [
        {
          "output_type": "execute_result",
          "data": {
            "text/plain": [
              "0.9747135519557487"
            ]
          },
          "metadata": {
            "tags": []
          },
          "execution_count": 57
        }
      ]
    },
    {
      "cell_type": "markdown",
      "metadata": {
        "id": "xQwhSfRdHsL4",
        "colab_type": "text"
      },
      "source": [
        "#### Confusion Matrix"
      ]
    },
    {
      "cell_type": "code",
      "metadata": {
        "id": "rprrc4ROHyPX",
        "colab_type": "code",
        "colab": {
          "base_uri": "https://localhost:8080/",
          "height": 51
        },
        "outputId": "f92b2b63-6e2f-4c1a-fce6-9df0bfc87119"
      },
      "source": [
        "confusion_matrix(Y_test, feat_pred)"
      ],
      "execution_count": null,
      "outputs": [
        {
          "output_type": "execute_result",
          "data": {
            "text/plain": [
              "array([[17065,    42],\n",
              "       [  406,   204]])"
            ]
          },
          "metadata": {
            "tags": []
          },
          "execution_count": 58
        }
      ]
    },
    {
      "cell_type": "code",
      "metadata": {
        "id": "ne4kgxYUIuZK",
        "colab_type": "code",
        "colab": {
          "base_uri": "https://localhost:8080/",
          "height": 34
        },
        "outputId": "51d51d9f-3714-4a5b-ddaa-9bb5db97e68c"
      },
      "source": [
        "false_positive_rate, true_positive_rate, thresholds = roc_curve(Y_test, feat_pred)\n",
        "roc_auc = auc(false_positive_rate, true_positive_rate)\n",
        "roc_auc"
      ],
      "execution_count": null,
      "outputs": [
        {
          "output_type": "execute_result",
          "data": {
            "text/plain": [
              "0.665985547091738"
            ]
          },
          "metadata": {
            "tags": []
          },
          "execution_count": 59
        }
      ]
    },
    {
      "cell_type": "markdown",
      "metadata": {
        "id": "YmXFBZDuJnuJ",
        "colab_type": "text"
      },
      "source": [
        "We are able to reduce the complexity of the model a lot with just a very little decrease in roc_auc value."
      ]
    },
    {
      "cell_type": "markdown",
      "metadata": {
        "id": "no3aR-9LimRd",
        "colab_type": "text"
      },
      "source": [
        "### Cross - Validation\n",
        "Usually, our data is divided into Train and Test Sets. The Train set is further divided into Train and Validation set.\n",
        "\n",
        "The Validation Set helps us in selecting good parameters/tune the parameters for our model."
      ]
    },
    {
      "cell_type": "code",
      "metadata": {
        "id": "TWZDs96oi1mh",
        "colab_type": "code",
        "colab": {}
      },
      "source": [
        "# We will use here k - fold cross validation technique\n",
        "from sklearn.model_selection import cross_validate"
      ],
      "execution_count": null,
      "outputs": []
    },
    {
      "cell_type": "code",
      "metadata": {
        "id": "_JuwMQb1i1Wh",
        "colab_type": "code",
        "colab": {
          "base_uri": "https://localhost:8080/",
          "height": 187
        },
        "outputId": "fa9986c6-d1db-4124-c0c7-3ff79fa9cd08"
      },
      "source": [
        "cv_results = cross_validate(rfc, X_new, Y, cv=10, scoring=[\"accuracy\", \"precision\", \"recall\"])\n",
        "cv_results"
      ],
      "execution_count": null,
      "outputs": [
        {
          "output_type": "execute_result",
          "data": {
            "text/plain": [
              "{'fit_time': array([10.56973481, 10.3080523 , 10.28333879, 10.55372953, 10.46184993,\n",
              "        10.4544332 , 10.30198002, 10.41601753, 10.30358648, 10.26901054]),\n",
              " 'score_time': array([0.12954879, 0.12815952, 0.12804198, 0.13393235, 0.1290679 ,\n",
              "        0.13238955, 0.12870622, 0.12921858, 0.12853241, 0.13000917]),\n",
              " 'test_accuracy': array([0.97511006, 0.97697257, 0.97612597, 0.9746021 , 0.97408975,\n",
              "        0.97442845, 0.97358171, 0.97324301, 0.97662997, 0.97510584]),\n",
              " 'test_precision': array([0.82926829, 0.88235294, 0.82608696, 0.84931507, 0.76404494,\n",
              "        0.74747475, 0.80555556, 0.75      , 0.83695652, 0.80681818]),\n",
              " 'test_recall': array([0.33830846, 0.37313433, 0.37810945, 0.30845771, 0.34      ,\n",
              "        0.37      , 0.29      , 0.315     , 0.385     , 0.35323383])}"
            ]
          },
          "metadata": {
            "tags": []
          },
          "execution_count": 61
        }
      ]
    },
    {
      "cell_type": "code",
      "metadata": {
        "id": "NPQhL-Wdi1Fr",
        "colab_type": "code",
        "colab": {
          "base_uri": "https://localhost:8080/",
          "height": 68
        },
        "outputId": "dc5bd48f-c302-4d18-81e3-039f4f1bfae1"
      },
      "source": [
        "print(\"Accuracy: \", cv_results[\"test_accuracy\"].mean())\n",
        "print('Precision: ', cv_results['test_precision'].mean())\n",
        "print(\"Recall: \", cv_results['test_recall'].mean())"
      ],
      "execution_count": null,
      "outputs": [
        {
          "output_type": "stream",
          "text": [
            "Accuracy:  0.9749889447806777\n",
            "Precision:  0.8097873209282127\n",
            "Recall:  0.34512437810945273\n"
          ],
          "name": "stdout"
        }
      ]
    },
    {
      "cell_type": "markdown",
      "metadata": {
        "id": "bn_XEArIjm9A",
        "colab_type": "text"
      },
      "source": [
        "Even with cross validation we are getting approx 96.9% of accurate results."
      ]
    },
    {
      "cell_type": "markdown",
      "metadata": {
        "id": "Fh2gSYBB7q9t",
        "colab_type": "text"
      },
      "source": [
        "### Hyper parameter tunning\n",
        "Hyperparameters are important parts of the ML model and can make the model gold or trash. Here we have discussed one of the popular hyperparameter tunning method i.e. using Grid Search CV."
      ]
    },
    {
      "cell_type": "code",
      "metadata": {
        "id": "iJULs32W7_2x",
        "colab_type": "code",
        "colab": {}
      },
      "source": [
        "from sklearn.model_selection import GridSearchCV"
      ],
      "execution_count": null,
      "outputs": []
    },
    {
      "cell_type": "code",
      "metadata": {
        "id": "9H2stTDwkRbl",
        "colab_type": "code",
        "colab": {}
      },
      "source": [
        "from sklearn.ensemble import RandomForestClassifier\n",
        "rfc = RandomForestClassifier()"
      ],
      "execution_count": null,
      "outputs": []
    },
    {
      "cell_type": "markdown",
      "metadata": {
        "id": "M2itoOa7mddr",
        "colab_type": "text"
      },
      "source": [
        "To know about different parameters of random forest visit here: https://scikit-learn.org/stable/modules/generated/sklearn.ensemble.RandomForestClassifier.html"
      ]
    },
    {
      "cell_type": "code",
      "metadata": {
        "id": "RSZj1jrx9XQg",
        "colab_type": "code",
        "colab": {}
      },
      "source": [
        "# Different parameters in random forest\n",
        "\n",
        "criterion = ['gini', 'entropy']        # what criteria to consider\n",
        "\n",
        "n_estimators = [100, 200, 300]       # Number of trees in random forest\n",
        "\n",
        "max_features = ['auto', 'sqrt']       # Number of features to consider at every split\n",
        "\n",
        "max_depth = [10, 20]      # Maximum number of levels in tree. Hope you remember linspace function from numpy session\n",
        "\n",
        "max_depth.append(None)     # also appendin 'None' in max_depth i.e. no maximum depth to be considered.\n",
        "\n",
        "params = {'criterion': criterion,\n",
        "          'n_estimators': n_estimators,\n",
        "          'max_features': max_features,\n",
        "          'max_depth': max_depth}\n"
      ],
      "execution_count": null,
      "outputs": []
    },
    {
      "cell_type": "code",
      "metadata": {
        "id": "QbMaahyDnneZ",
        "colab_type": "code",
        "colab": {
          "base_uri": "https://localhost:8080/",
          "height": 85
        },
        "outputId": "44e29776-159d-416b-8f67-32efaa618399"
      },
      "source": [
        "params"
      ],
      "execution_count": null,
      "outputs": [
        {
          "output_type": "execute_result",
          "data": {
            "text/plain": [
              "{'criterion': ['gini', 'entropy'],\n",
              " 'max_depth': [10, 20, None],\n",
              " 'max_features': ['auto', 'sqrt'],\n",
              " 'n_estimators': [100, 200, 300]}"
            ]
          },
          "metadata": {
            "tags": []
          },
          "execution_count": 66
        }
      ]
    },
    {
      "cell_type": "code",
      "metadata": {
        "id": "XwlLlPFN9ZnF",
        "colab_type": "code",
        "colab": {}
      },
      "source": [
        "gs = GridSearchCV(rfc, param_grid=params, n_jobs=2)"
      ],
      "execution_count": null,
      "outputs": []
    },
    {
      "cell_type": "code",
      "metadata": {
        "id": "zFDZSMKB9hnT",
        "colab_type": "code",
        "colab": {
          "base_uri": "https://localhost:8080/",
          "height": 408
        },
        "outputId": "4a8f429b-70e9-401e-c83b-eb4bddac7d48"
      },
      "source": [
        "gs.fit(X_train, Y_train)    # this will take a lot of time to execute; have some patience"
      ],
      "execution_count": null,
      "outputs": [
        {
          "output_type": "execute_result",
          "data": {
            "text/plain": [
              "GridSearchCV(cv=None, error_score=nan,\n",
              "             estimator=RandomForestClassifier(bootstrap=True, ccp_alpha=0.0,\n",
              "                                              class_weight=None,\n",
              "                                              criterion='gini', max_depth=None,\n",
              "                                              max_features='auto',\n",
              "                                              max_leaf_nodes=None,\n",
              "                                              max_samples=None,\n",
              "                                              min_impurity_decrease=0.0,\n",
              "                                              min_impurity_split=None,\n",
              "                                              min_samples_leaf=1,\n",
              "                                              min_samples_split=2,\n",
              "                                              min_weight_fraction_leaf=0.0,\n",
              "                                              n_estimators=100, n_jobs=None,\n",
              "                                              oob_score=False,\n",
              "                                              random_state=None, verbose=0,\n",
              "                                              warm_start=False),\n",
              "             iid='deprecated', n_jobs=2,\n",
              "             param_grid={'criterion': ['gini', 'entropy'],\n",
              "                         'max_depth': [10, 20, None],\n",
              "                         'max_features': ['auto', 'sqrt'],\n",
              "                         'n_estimators': [100, 200, 300]},\n",
              "             pre_dispatch='2*n_jobs', refit=True, return_train_score=False,\n",
              "             scoring=None, verbose=0)"
            ]
          },
          "metadata": {
            "tags": []
          },
          "execution_count": 68
        }
      ]
    },
    {
      "cell_type": "code",
      "metadata": {
        "id": "z6FNdBsL9nB6",
        "colab_type": "code",
        "colab": {
          "base_uri": "https://localhost:8080/",
          "height": 85
        },
        "outputId": "4436af1d-9fdb-4910-9bcc-6761fb85863d"
      },
      "source": [
        "gs.best_params_"
      ],
      "execution_count": null,
      "outputs": [
        {
          "output_type": "execute_result",
          "data": {
            "text/plain": [
              "{'criterion': 'entropy',\n",
              " 'max_depth': 20,\n",
              " 'max_features': 'sqrt',\n",
              " 'n_estimators': 300}"
            ]
          },
          "metadata": {
            "tags": []
          },
          "execution_count": 69
        }
      ]
    },
    {
      "cell_type": "code",
      "metadata": {
        "id": "K0l9DDOE_QxJ",
        "colab_type": "code",
        "colab": {
          "base_uri": "https://localhost:8080/",
          "height": 34
        },
        "outputId": "216307a1-7c50-4f50-8466-6f7e6386d96d"
      },
      "source": [
        "gs.best_score_"
      ],
      "execution_count": null,
      "outputs": [
        {
          "output_type": "execute_result",
          "data": {
            "text/plain": [
              "0.974042621648584"
            ]
          },
          "metadata": {
            "tags": []
          },
          "execution_count": 70
        }
      ]
    },
    {
      "cell_type": "code",
      "metadata": {
        "id": "hkoDdv8wev4g",
        "colab_type": "code",
        "colab": {}
      },
      "source": [
        "gs_pred = gs.predict(X_test)"
      ],
      "execution_count": null,
      "outputs": []
    },
    {
      "cell_type": "code",
      "metadata": {
        "id": "TDi73ybNXCqD",
        "colab_type": "code",
        "colab": {
          "base_uri": "https://localhost:8080/",
          "height": 34
        },
        "outputId": "a8883268-567b-49e3-c513-ff77db571cbf"
      },
      "source": [
        "accuracy_score(Y_test, gs_pred)"
      ],
      "execution_count": null,
      "outputs": [
        {
          "output_type": "execute_result",
          "data": {
            "text/plain": [
              "0.9746571089913643"
            ]
          },
          "metadata": {
            "tags": []
          },
          "execution_count": 72
        }
      ]
    },
    {
      "cell_type": "markdown",
      "metadata": {
        "id": "wTjYq1QpXBrh",
        "colab_type": "text"
      },
      "source": [
        "#### Confusion Matrix"
      ]
    },
    {
      "cell_type": "code",
      "metadata": {
        "id": "M6ztOItjXLAZ",
        "colab_type": "code",
        "colab": {
          "base_uri": "https://localhost:8080/",
          "height": 51
        },
        "outputId": "064faa56-d0f5-4e67-e123-2476217649d3"
      },
      "source": [
        "confusion_matrix(Y_test, gs_pred)"
      ],
      "execution_count": null,
      "outputs": [
        {
          "output_type": "execute_result",
          "data": {
            "text/plain": [
              "array([[17078,    29],\n",
              "       [  420,   190]])"
            ]
          },
          "metadata": {
            "tags": []
          },
          "execution_count": 73
        }
      ]
    },
    {
      "cell_type": "code",
      "metadata": {
        "id": "EiidfXHAXXSZ",
        "colab_type": "code",
        "colab": {
          "base_uri": "https://localhost:8080/",
          "height": 34
        },
        "outputId": "b9746bbd-0c5f-4efe-8198-566447e03ed3"
      },
      "source": [
        "false_positive_rate, true_positive_rate, thresholds = roc_curve(Y_test, gs_pred)\n",
        "roc_auc = auc(false_positive_rate, true_positive_rate)\n",
        "roc_auc"
      ],
      "execution_count": null,
      "outputs": [
        {
          "output_type": "execute_result",
          "data": {
            "text/plain": [
              "0.6548900986749744"
            ]
          },
          "metadata": {
            "tags": []
          },
          "execution_count": 74
        }
      ]
    },
    {
      "cell_type": "code",
      "metadata": {
        "id": "OV3fGDkVXa_V",
        "colab_type": "code",
        "colab": {
          "base_uri": "https://localhost:8080/",
          "height": 638
        },
        "outputId": "2aafbad6-ce8e-44c3-aad3-bbb688e89cad"
      },
      "source": [
        "plt.figure(figsize=(10,10))\n",
        "plt.title('Receiver Operating Characteristic')\n",
        "plt.plot(false_positive_rate,true_positive_rate, color='red',label = 'AUC = %0.2f' % roc_auc)\n",
        "plt.legend(loc = 'lower right')\n",
        "plt.plot([0, 1], [0, 1],linestyle='--')\n",
        "plt.axis('tight')\n",
        "plt.ylabel('True Positive Rate (Sensitivity)')\n",
        "plt.xlabel('False Positive Rate (1-specificiy)')"
      ],
      "execution_count": null,
      "outputs": [
        {
          "output_type": "execute_result",
          "data": {
            "text/plain": [
              "Text(0.5, 0, 'False Positive Rate (1-specificiy)')"
            ]
          },
          "metadata": {
            "tags": []
          },
          "execution_count": 75
        },
        {
          "output_type": "display_data",
          "data": {
            "image/png": "[encoded data removed]",
            "text/plain": [
              "<Figure size 720x720 with 1 Axes>"
            ]
          },
          "metadata": {
            "tags": [],
            "needs_background": "light"
          }
        }
      ]
    },
    {
      "cell_type": "markdown",
      "metadata": {
        "id": "3xj73WQFfVVA",
        "colab_type": "text"
      },
      "source": [
        "**Conclusion**\n",
        "*  We observed that the dataset contained missing values. We removed some columns and filled missing values for numerical column with mean and categorical column with mode (i.e. the maximum occuring value).\n",
        "*  We observed that the dataset was imblanced. We used 'SMOTE' to generate new data to deal with the problem of imbalanced data.\n",
        "*  We build Random Forest model, got accuracy score of 97.53% and 0.67 auc value.\n",
        "*  Then we selected only 100 most important features using selectKBest and f_classif. Here the model complexity is reduced a lot (which is very good) with very little decrease in accuracy\n",
        "*  Cross Validation and Hyper parameter tunning gave nearly 96.8% of accurate results with auc value 0.65 which is not bad. Most of the times the default values for hyper parameters of the models are same that we get through the hyper parameter tunning. That's the reason there is not much difference in normal model and tunned model."
      ]
    },
    {
      "cell_type": "markdown",
      "metadata": {
        "id": "j8ydaZR7timZ",
        "colab_type": "text"
      },
      "source": [
        "References:\n",
        "1. [Dealing with Imbalanced Data by Tara Boyle](https://towardsdatascience.com/methods-for-dealing-with-imbalanced-data-5b761be45a18)\n",
        "2. [Data Pre-processing - Handling missing values and dealing with class imbalance by Bharat Ram Ammu](https://www.youtube.com/watch?v=vksQx1JNo8Y)\n",
        "3. https://www.kaggle.com/drgilermo/a-tutorial-for-complete-beginners\n",
        "4. https://machinelearningmastery.com/feature-selection-with-real-and-categorical-data/"
      ]
    }
  ]
}